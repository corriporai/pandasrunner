{
 "cells": [
  {
   "cell_type": "markdown",
   "metadata": {},
   "source": [
    "\n",
    "# Release 0.5.2 improvements on support to Python 3.10 and new Pandas releases. Strava Client Authentication now integrated!\n",
    "> New release of runpandas comes with Python and Pandas new releases support and Strava Client Authentication tool now integrated.\n",
    "- toc: false \n",
    "- badges: true\n",
    "- comments: true\n",
    "- author: Marcel Caraciolo\n",
    "- categories: [general, jupyter, releases]\n",
    "- image: images/runpandas_03.png"
   ]
  },
  {
   "cell_type": "markdown",
   "metadata": {},
   "source": [
    "> This  current state of the project is `early beta`, which means that features can be added, removed or changed in backwards incompatible ways."
   ]
  },
  {
   "cell_type": "markdown",
   "metadata": {},
   "source": [
    "We published this minor release with some bug fixes , new Python and Pandas releases support and Strava Client Authentication. In this release of [RunPandas 0.5.2](https://pypi.org/project/runpandas/), we include:"
   ]
  },
  {
   "cell_type": "markdown",
   "metadata": {},
   "source": [
    "-  CI now updated to include build tests with Python 3.9 and Python 3.10. It removed 3.6 Python official support.\n",
    "-  CI now  updated to include build tests with Pandas version 1.4.2 .\n",
    "-  Strava comes with social client authentication tool integrated. Thanks to contributor [@bitner](https://github.com/bitner) !\n",
    "-  Fixes on Test suite and read the docs build suite."
   ]
  },
  {
   "cell_type": "markdown",
   "metadata": {},
   "source": [
    "## What is Runpandas?\n"
   ]
  },
  {
   "cell_type": "markdown",
   "metadata": {},
   "source": [
    "Runpandas is a python package based on ``pandas`` data analysis library, that makes it easier to perform data analysis from your running sessions stored at tracking files from cellphones and GPS smartwatches or social sports applications such as Strava, MapMyRUn, NikeRunClub, etc. It is designed to enable reading, transforming and running metrics analytics from several tracking files and apps.\n"
   ]
  },
  {
   "cell_type": "markdown",
   "metadata": {},
   "source": [
    "## Main Features\n"
   ]
  },
  {
   "cell_type": "markdown",
   "metadata": {},
   "source": [
    "In order to download the [Strava](https://www.strava.com/) activities, you must authenticate your dev app through Strava servers in order to get a valid access token.  Previously, this task  had to be performed outside runpandas. Now Runpandas is powered with this handful tool, so you can easily can get the access token and store it locally , so you can use it as long as it doesn't expire it."
   ]
  },
  {
   "cell_type": "markdown",
   "metadata": {},
   "source": [
    "<img src=\"./images/getting-started-4.png\">\n",
    "\n",
    "Screenshot from the Strava Authentication Authorization WebSite"
   ]
  },
  {
   "cell_type": "markdown",
   "metadata": {},
   "source": [
    "### How does it work ?"
   ]
  },
  {
   "cell_type": "markdown",
   "metadata": {},
   "source": [
    "We load the environment variables from our terminal or use a .env file with the STRAVA social app personal access tokens. You can create your own using the link instructions here: https://developers.strava.com/"
   ]
  },
  {
   "cell_type": "code",
   "execution_count": 1,
   "metadata": {},
   "outputs": [],
   "source": [
    "%load_ext autoreload\n",
    "%autoreload 2\n",
    "import warnings\n",
    "warnings.filterwarnings('ignore')\n",
    "\n",
    "import runpandas\n",
    "import os\n",
    "import pandas as pd\n",
    "pd.set_option('display.max_rows', 500)"
   ]
  },
  {
   "cell_type": "code",
   "execution_count": 2,
   "metadata": {},
   "outputs": [
    {
     "data": {
      "text/plain": [
       "True"
      ]
     },
     "execution_count": 2,
     "metadata": {},
     "output_type": "execute_result"
    }
   ],
   "source": [
    "from dotenv import load_dotenv\n",
    "load_dotenv()"
   ]
  },
  {
   "cell_type": "markdown",
   "metadata": {},
   "source": [
    "Firstly, import the runpandas StravaClient, create a Client instance, and read in the client ID and secret loaded previously. Next the one time authentication. The command client.authenticate_web will open a browser with a URL for the athlete to use to approve access to their data from the app.\n",
    "\n",
    "The athlete is then prompted to log in to the Strava website and give consent to the requesting application. Once the user authorizes, it will store the access token and refresh token. From this point this access token, which lasts for 6 hours, will be what you need to access data. The client also save it locally so it can be re-read and refreshed as needed."
   ]
  },
  {
   "cell_type": "code",
   "execution_count": 3,
   "metadata": {},
   "outputs": [
    {
     "name": "stdout",
     "output_type": "stream",
     "text": [
      "problems on reading token.json file. It considers an empty file.\n"
     ]
    },
    {
     "data": {
      "text/plain": [
       "{'access_token': 'e728378922ebe5e07371904c83771d18a716864f',\n",
       " 'refresh_token': '59c8537628a19d70330e5aca2ec5a558023a2c03',\n",
       " 'expires_at': 1660964653}"
      ]
     },
     "execution_count": 3,
     "metadata": {},
     "output_type": "execute_result"
    }
   ],
   "source": [
    "client = runpandas.StravaClient()\n",
    "client.authenticate_web()"
   ]
  },
  {
   "cell_type": "markdown",
   "metadata": {},
   "source": [
    "As shown above, the activity now after loaded can be analysed as any other activity in runpandas!"
   ]
  },
  {
   "cell_type": "code",
   "execution_count": 4,
   "metadata": {},
   "outputs": [
    {
     "name": "stderr",
     "output_type": "stream",
     "text": [
      "Unable to set attribute media_type on entity <ActivityPhotoPrimary id=None>\n"
     ]
    },
    {
     "data": {
      "text/plain": [
       "Session                           Running: 18-06-2022 07:08:07\n",
       "Total distance (meters)                                21389.8\n",
       "Total ellapsed time                            0 days 02:02:20\n",
       "Total moving time                              0 days 02:02:19\n",
       "Average speed (km/h)                                       NaN\n",
       "Average moving speed (km/h)                                NaN\n",
       "Average pace (per 1 km)                                    NaN\n",
       "Average pace moving (per 1 km)                             NaN\n",
       "Average cadence                                        87.7889\n",
       "Average moving cadence                                  87.847\n",
       "Average heart rate                                     155.674\n",
       "Average moving heart rate                              155.713\n",
       "Average temperature                                        NaN\n",
       "dtype: object"
      ]
     },
     "execution_count": 4,
     "metadata": {},
     "output_type": "execute_result"
    }
   ],
   "source": [
    "activity = runpandas.read_strava('7329257123')\n",
    "activity.summary()"
   ]
  },
  {
   "cell_type": "markdown",
   "metadata": {},
   "source": [
    "## What is coming next ?"
   ]
  },
  {
   "cell_type": "markdown",
   "metadata": {},
   "source": [
    "The next releases will focus on supporting marathon results and some plots support.  It will be awesome, keep tunned!"
   ]
  },
  {
   "cell_type": "markdown",
   "metadata": {},
   "source": [
    "## Sorry\n",
    "\n",
    "Sorry for the long delay since the last release, I was kept busy working on other projects. But I will be more frequent here updating our favorite data running sports package!"
   ]
  },
  {
   "cell_type": "markdown",
   "metadata": {},
   "source": [
    "## Thanks"
   ]
  },
  {
   "cell_type": "markdown",
   "metadata": {},
   "source": [
    "We are constantly developing Runpandas improving its existing features and adding new ones. We will be glad to hear from you about what you like or don’t like, what features you may wish to see in upcoming releases. Please feel free to contact us."
   ]
  }
 ],
 "metadata": {
  "kernelspec": {
   "display_name": "Python 3.8.3 ('runpandas_dev')",
   "language": "python",
   "name": "python3"
  },
  "language_info": {
   "codemirror_mode": {
    "name": "ipython",
    "version": 3
   },
   "file_extension": ".py",
   "mimetype": "text/x-python",
   "name": "python",
   "nbconvert_exporter": "python",
   "pygments_lexer": "ipython3",
   "version": "3.8.3"
  },
  "orig_nbformat": 2,
  "vscode": {
   "interpreter": {
    "hash": "2a188acd0f27a53b17cfad69c436eac3f19ae51e9e26340e7d32ca2c8c278930"
   }
  }
 },
 "nbformat": 4,
 "nbformat_minor": 2
}
