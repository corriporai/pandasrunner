{
 "metadata": {
  "language_info": {
   "codemirror_mode": {
    "name": "ipython",
    "version": 3
   },
   "file_extension": ".py",
   "mimetype": "text/x-python",
   "name": "python",
   "nbconvert_exporter": "python",
   "pygments_lexer": "ipython3",
   "version": "3.8.3"
  },
  "orig_nbformat": 2,
  "kernelspec": {
   "name": "python383jvsc74a57bd0449a6a5da217c2d6cffa80a6a7a4724fa6726b57ec2f120da10e91a7f29f4eb0",
   "display_name": "Python 3.8.3 64-bit ('runpandas_dev': conda)"
  }
 },
 "nbformat": 4,
 "nbformat_minor": 2,
 "cells": [
  {
   "source": [
    "\n",
    "# Release 0.5.0 with summary statistics and aggregation of multiple activities!\n",
    "> New release of runpandas comes with the summary statistics for one workout and the possibility of combining multiple activities into a single session container for advanced statistical analysis over a period of time. \n",
    "- toc: false \n",
    "- badges: true\n",
    "- comments: true\n",
    "- author: Marcel Caraciolo\n",
    "- categories: [general, jupyter, releases]\n",
    "- image: images/metrics-runners.png"
   ],
   "cell_type": "markdown",
   "metadata": {}
  },
  {
   "source": [
    "> This  current state of the project is `early beta`, which means that features can be added, removed or changed in backwards incompatible ways."
   ],
   "cell_type": "markdown",
   "metadata": {}
  },
  {
   "source": [
    "We published this major release with summary statistics for a single activity and the possibility of combining multiple workouts into a one multi-dimensional dataframe (season) , enabling other types of analysis, including historical performance over a period of time. In this release of [RunPandas 0.5.0](https://pypi.org/project/runpandas/), we include:"
   ],
   "cell_type": "markdown",
   "metadata": {}
  },
  {
   "source": [
    "-  Now the Activity can be summarised through common summary statistics using the `runpandas.types.summary` method.\n",
    "-  We enable now the analysis over multiple activities by combining them into a single Activity. This results into new possibilities of aggregated analysis over a group of workouts.\n",
    "-  There is a new acessor  `runpandas.acessors.season` , that computes the running metrics through the combined activities.\n",
    "-  Finally, there is a `runpandas.types.session_summary`  method that includes summary statistics over the season (group) of activities."
   ],
   "cell_type": "markdown",
   "metadata": {}
  },
  {
   "source": [
    "## What is Runpandas?\n"
   ],
   "cell_type": "markdown",
   "metadata": {}
  },
  {
   "source": [
    "Runpandas is a python package based on ``pandas`` data analysis library, that makes it easier to perform data analysis from your running sessions stored at tracking files from cellphones and GPS smartwatches or social sports applications such as Strava, MapMyRUn, NikeRunClub, etc. It is designed to enable reading, transforming and running metrics analytics from several tracking files and apps.\n"
   ],
   "cell_type": "markdown",
   "metadata": {}
  },
  {
   "source": [
    "## Main Features\n"
   ],
   "cell_type": "markdown",
   "metadata": {}
  },
  {
   "source": [
    "### Summary statistics for a single workout"
   ],
   "cell_type": "markdown",
   "metadata": {}
  },
  {
   "source": [
    "The ``runpandas`` provides for the data runners the ``runpandas.types.summary`` method for the Activity dataframe. This methods computes the estimates of the total distance covered, the total duration, the time spent moving, and several averages metrics such as speed, pace, cadence, and heart rate, calculated based on total duration ot the time spent moving."
   ],
   "cell_type": "markdown",
   "metadata": {}
  },
  {
   "cell_type": "code",
   "execution_count": 1,
   "metadata": {},
   "outputs": [],
   "source": [
    "#Disable Warnings for a better visualization\n",
    "import warnings\n",
    "warnings.filterwarnings('ignore')"
   ]
  },
  {
   "cell_type": "code",
   "execution_count": 3,
   "metadata": {},
   "outputs": [],
   "source": [
    "#!pip install runpandas\n",
    "import runpandas as rpd\n",
    "activity = rpd.read_file('./data/sample.tcx')"
   ]
  },
  {
   "cell_type": "code",
   "execution_count": 4,
   "metadata": {},
   "outputs": [
    {
     "output_type": "execute_result",
     "data": {
      "text/plain": [
       "                 alt         dist   hr        lon        lat\n",
       "time                                                        \n",
       "00:00:00  178.942627     0.000000   62 -79.093187  35.951880\n",
       "00:00:01  178.942627     0.000000   62 -79.093184  35.951880\n",
       "00:00:06  178.942627     1.106947   62 -79.093172  35.951868\n",
       "00:00:12  177.500610    13.003035   62 -79.093228  35.951774\n",
       "00:00:16  177.500610    22.405027   60 -79.093141  35.951732\n",
       "...              ...          ...  ...        ...        ...\n",
       "00:32:51  170.290649  4613.641602  178 -79.093241  35.951341\n",
       "00:32:56  169.810059  4630.377930  178 -79.093192  35.951486\n",
       "00:33:02  168.848755  4652.966309  179 -79.093086  35.951671\n",
       "00:33:07  167.887329  4671.572754  179 -79.093000  35.951824\n",
       "00:33:11  166.445312  4686.311035  180 -79.093014  35.951954\n",
       "\n",
       "[383 rows x 5 columns]"
      ],
      "text/html": "<div>\n<style scoped>\n    .dataframe tbody tr th:only-of-type {\n        vertical-align: middle;\n    }\n\n    .dataframe tbody tr th {\n        vertical-align: top;\n    }\n\n    .dataframe thead th {\n        text-align: right;\n    }\n</style>\n<table border=\"1\" class=\"dataframe\">\n  <thead>\n    <tr style=\"text-align: right;\">\n      <th></th>\n      <th>alt</th>\n      <th>dist</th>\n      <th>hr</th>\n      <th>lon</th>\n      <th>lat</th>\n    </tr>\n    <tr>\n      <th>time</th>\n      <th></th>\n      <th></th>\n      <th></th>\n      <th></th>\n      <th></th>\n    </tr>\n  </thead>\n  <tbody>\n    <tr>\n      <th>00:00:00</th>\n      <td>178.942627</td>\n      <td>0.000000</td>\n      <td>62</td>\n      <td>-79.093187</td>\n      <td>35.951880</td>\n    </tr>\n    <tr>\n      <th>00:00:01</th>\n      <td>178.942627</td>\n      <td>0.000000</td>\n      <td>62</td>\n      <td>-79.093184</td>\n      <td>35.951880</td>\n    </tr>\n    <tr>\n      <th>00:00:06</th>\n      <td>178.942627</td>\n      <td>1.106947</td>\n      <td>62</td>\n      <td>-79.093172</td>\n      <td>35.951868</td>\n    </tr>\n    <tr>\n      <th>00:00:12</th>\n      <td>177.500610</td>\n      <td>13.003035</td>\n      <td>62</td>\n      <td>-79.093228</td>\n      <td>35.951774</td>\n    </tr>\n    <tr>\n      <th>00:00:16</th>\n      <td>177.500610</td>\n      <td>22.405027</td>\n      <td>60</td>\n      <td>-79.093141</td>\n      <td>35.951732</td>\n    </tr>\n    <tr>\n      <th>...</th>\n      <td>...</td>\n      <td>...</td>\n      <td>...</td>\n      <td>...</td>\n      <td>...</td>\n    </tr>\n    <tr>\n      <th>00:32:51</th>\n      <td>170.290649</td>\n      <td>4613.641602</td>\n      <td>178</td>\n      <td>-79.093241</td>\n      <td>35.951341</td>\n    </tr>\n    <tr>\n      <th>00:32:56</th>\n      <td>169.810059</td>\n      <td>4630.377930</td>\n      <td>178</td>\n      <td>-79.093192</td>\n      <td>35.951486</td>\n    </tr>\n    <tr>\n      <th>00:33:02</th>\n      <td>168.848755</td>\n      <td>4652.966309</td>\n      <td>179</td>\n      <td>-79.093086</td>\n      <td>35.951671</td>\n    </tr>\n    <tr>\n      <th>00:33:07</th>\n      <td>167.887329</td>\n      <td>4671.572754</td>\n      <td>179</td>\n      <td>-79.093000</td>\n      <td>35.951824</td>\n    </tr>\n    <tr>\n      <th>00:33:11</th>\n      <td>166.445312</td>\n      <td>4686.311035</td>\n      <td>180</td>\n      <td>-79.093014</td>\n      <td>35.951954</td>\n    </tr>\n  </tbody>\n</table>\n<p>383 rows × 5 columns</p>\n</div>"
     },
     "metadata": {},
     "execution_count": 4
    }
   ],
   "source": [
    "activity"
   ]
  },
  {
   "cell_type": "code",
   "execution_count": 9,
   "metadata": {},
   "outputs": [],
   "source": [
    "#compute the common metrics for the running activity such as distance per position, speed, pace, etc.\n",
    "activity['distpos']  = activity.compute.distance()\n",
    "activity['speed']  = activity.compute.speed(from_distances=True)\n",
    "activity['vam'] = activity.compute.vertical_speed()\n",
    "activity_only_moving = activity.only_moving()"
   ]
  },
  {
   "cell_type": "code",
   "execution_count": 10,
   "metadata": {},
   "outputs": [
    {
     "output_type": "execute_result",
     "data": {
      "text/plain": [
       "Session                           Running: 26-12-2012 21:29:53\n",
       "Total distance (meters)                                4686.31\n",
       "Total ellapsed time                            0 days 00:33:11\n",
       "Total moving time                              0 days 00:33:05\n",
       "Average speed (km/h)                                   8.47656\n",
       "Average moving speed (km/h)                            8.49853\n",
       "Average pace (per 1 km)                        0 days 00:07:04\n",
       "Average pace moving (per 1 km)                 0 days 00:07:03\n",
       "Average cadence                                            NaN\n",
       "Average moving cadence                                     NaN\n",
       "Average heart rate                                     156.653\n",
       "Average moving heart rate                                157.4\n",
       "Average temperature                                        NaN\n",
       "dtype: object"
      ]
     },
     "metadata": {},
     "execution_count": 10
    }
   ],
   "source": [
    "activity_only_moving.summary()"
   ]
  },
  {
   "source": [
    "The result above is an object of  `pandas.Series` including the main running statistics from the workout."
   ],
   "cell_type": "markdown",
   "metadata": {}
  },
  {
   "source": [
    "### Combining multiple activities into a Grouped Activity Dataframe"
   ],
   "cell_type": "markdown",
   "metadata": {}
  },
  {
   "source": [
    "`Runpandas` powered by pandas libraries comes with the ``pandas.MultiIndex``, which allows the dataframe  have multiple columns as a row identifier, while having each index column related to another through a parent/child relationship. In our scenario we have the start time from each activity as the first index level and the timestamps from the activity as the second index level. This enables advanced statistical analysis acrosss one period of training sessions or over a period time. \n",
    "\n",
    "The code chunk below loads the data using the method `runpandas.read_directory_aggregate`, which allows the user to read all the tracking files of a support format in a directory and combine them in a data frame split by sessions based on the timestamps of each activity.  It means that for each workout file will be stored in separate lines in the dataframe."
   ],
   "cell_type": "markdown",
   "metadata": {}
  },
  {
   "cell_type": "code",
   "execution_count": 13,
   "metadata": {},
   "outputs": [],
   "source": [
    "import runpandas\n",
    "session = runpandas.read_dir_aggregate(dirname='./data/session/')"
   ]
  },
  {
   "cell_type": "code",
   "execution_count": 14,
   "metadata": {},
   "outputs": [
    {
     "output_type": "execute_result",
     "data": {
      "text/plain": [
       "                                              alt     hr        lon       lat\n",
       "start                   time                                                 \n",
       "2020-08-30 09:08:51.012 00:00:00              NaN    NaN -34.893609 -8.045055\n",
       "                        00:00:01.091000       NaN    NaN -34.893624 -8.045054\n",
       "                        00:00:02.091000       NaN    NaN -34.893641 -8.045061\n",
       "                        00:00:03.098000       NaN    NaN -34.893655 -8.045063\n",
       "                        00:00:04.098000       NaN    NaN -34.893655 -8.045065\n",
       "...                                           ...    ...        ...       ...\n",
       "2021-07-04 11:23:19.418 00:52:39.582000  0.050001  189.0 -34.894534 -8.046602\n",
       "                        00:52:43.582000       NaN    NaN -34.894465 -8.046533\n",
       "                        00:52:44.582000       NaN    NaN -34.894443 -8.046515\n",
       "                        00:52:45.582000       NaN    NaN -34.894429 -8.046494\n",
       "                        00:52:49.582000       NaN  190.0 -34.894395 -8.046398\n",
       "\n",
       "[48794 rows x 4 columns]"
      ],
      "text/html": "<div>\n<style scoped>\n    .dataframe tbody tr th:only-of-type {\n        vertical-align: middle;\n    }\n\n    .dataframe tbody tr th {\n        vertical-align: top;\n    }\n\n    .dataframe thead th {\n        text-align: right;\n    }\n</style>\n<table border=\"1\" class=\"dataframe\">\n  <thead>\n    <tr style=\"text-align: right;\">\n      <th></th>\n      <th></th>\n      <th>alt</th>\n      <th>hr</th>\n      <th>lon</th>\n      <th>lat</th>\n    </tr>\n    <tr>\n      <th>start</th>\n      <th>time</th>\n      <th></th>\n      <th></th>\n      <th></th>\n      <th></th>\n    </tr>\n  </thead>\n  <tbody>\n    <tr>\n      <th rowspan=\"5\" valign=\"top\">2020-08-30 09:08:51.012</th>\n      <th>00:00:00</th>\n      <td>NaN</td>\n      <td>NaN</td>\n      <td>-34.893609</td>\n      <td>-8.045055</td>\n    </tr>\n    <tr>\n      <th>00:00:01.091000</th>\n      <td>NaN</td>\n      <td>NaN</td>\n      <td>-34.893624</td>\n      <td>-8.045054</td>\n    </tr>\n    <tr>\n      <th>00:00:02.091000</th>\n      <td>NaN</td>\n      <td>NaN</td>\n      <td>-34.893641</td>\n      <td>-8.045061</td>\n    </tr>\n    <tr>\n      <th>00:00:03.098000</th>\n      <td>NaN</td>\n      <td>NaN</td>\n      <td>-34.893655</td>\n      <td>-8.045063</td>\n    </tr>\n    <tr>\n      <th>00:00:04.098000</th>\n      <td>NaN</td>\n      <td>NaN</td>\n      <td>-34.893655</td>\n      <td>-8.045065</td>\n    </tr>\n    <tr>\n      <th>...</th>\n      <th>...</th>\n      <td>...</td>\n      <td>...</td>\n      <td>...</td>\n      <td>...</td>\n    </tr>\n    <tr>\n      <th rowspan=\"5\" valign=\"top\">2021-07-04 11:23:19.418</th>\n      <th>00:52:39.582000</th>\n      <td>0.050001</td>\n      <td>189.0</td>\n      <td>-34.894534</td>\n      <td>-8.046602</td>\n    </tr>\n    <tr>\n      <th>00:52:43.582000</th>\n      <td>NaN</td>\n      <td>NaN</td>\n      <td>-34.894465</td>\n      <td>-8.046533</td>\n    </tr>\n    <tr>\n      <th>00:52:44.582000</th>\n      <td>NaN</td>\n      <td>NaN</td>\n      <td>-34.894443</td>\n      <td>-8.046515</td>\n    </tr>\n    <tr>\n      <th>00:52:45.582000</th>\n      <td>NaN</td>\n      <td>NaN</td>\n      <td>-34.894429</td>\n      <td>-8.046494</td>\n    </tr>\n    <tr>\n      <th>00:52:49.582000</th>\n      <td>NaN</td>\n      <td>190.0</td>\n      <td>-34.894395</td>\n      <td>-8.046398</td>\n    </tr>\n  </tbody>\n</table>\n<p>48794 rows × 4 columns</p>\n</div>"
     },
     "metadata": {},
     "execution_count": 14
    }
   ],
   "source": [
    "session"
   ]
  },
  {
   "cell_type": "code",
   "execution_count": 15,
   "metadata": {},
   "outputs": [
    {
     "output_type": "execute_result",
     "data": {
      "text/plain": [
       "MultiIndex([('2020-08-30 09:08:51.012000',        '00:00:00'),\n",
       "            ('2020-08-30 09:08:51.012000', '00:00:01.091000'),\n",
       "            ('2020-08-30 09:08:51.012000', '00:00:02.091000'),\n",
       "            ('2020-08-30 09:08:51.012000', '00:00:03.098000'),\n",
       "            ('2020-08-30 09:08:51.012000', '00:00:04.098000'),\n",
       "            ('2020-08-30 09:08:51.012000', '00:00:05.096000'),\n",
       "            ('2020-08-30 09:08:51.012000', '00:00:06.096000'),\n",
       "            ('2020-08-30 09:08:51.012000', '00:00:07.097000'),\n",
       "            ('2020-08-30 09:08:51.012000', '00:00:08.097000'),\n",
       "            ('2020-08-30 09:08:51.012000', '00:00:09.102000'),\n",
       "            ...\n",
       "            ('2021-07-04 11:23:19.418000', '00:52:18.584000'),\n",
       "            ('2021-07-04 11:23:19.418000', '00:52:22.584000'),\n",
       "            ('2021-07-04 11:23:19.418000', '00:52:26.582000'),\n",
       "            ('2021-07-04 11:23:19.418000', '00:52:30.582000'),\n",
       "            ('2021-07-04 11:23:19.418000', '00:52:35.582000'),\n",
       "            ('2021-07-04 11:23:19.418000', '00:52:39.582000'),\n",
       "            ('2021-07-04 11:23:19.418000', '00:52:43.582000'),\n",
       "            ('2021-07-04 11:23:19.418000', '00:52:44.582000'),\n",
       "            ('2021-07-04 11:23:19.418000', '00:52:45.582000'),\n",
       "            ('2021-07-04 11:23:19.418000', '00:52:49.582000')],\n",
       "           names=['start', 'time'], length=48794)"
      ]
     },
     "metadata": {},
     "execution_count": 15
    }
   ],
   "source": [
    "session.index  #MultiIndex (start, timestamp)"
   ]
  },
  {
   "source": [
    "### Session compute metrics methods"
   ],
   "cell_type": "markdown",
   "metadata": {}
  },
  {
   "source": [
    "The package comes now with an acessor ``runpandas.types.acessors.session._SessionAcessor`` that holds special methods for computing the running metrics across all the activities. The calls delegate to the single activity metrics acessors."
   ],
   "cell_type": "markdown",
   "metadata": {}
  },
  {
   "cell_type": "code",
   "execution_count": 16,
   "metadata": {},
   "outputs": [
    {
     "output_type": "execute_result",
     "data": {
      "text/plain": [
       "                                              alt     hr        lon       lat  \\\n",
       "start                   time                                                    \n",
       "2020-08-30 09:08:51.012 00:00:00              NaN    NaN -34.893609 -8.045055   \n",
       "                        00:00:01.091000       NaN    NaN -34.893624 -8.045054   \n",
       "                        00:00:02.091000       NaN    NaN -34.893641 -8.045061   \n",
       "                        00:00:03.098000       NaN    NaN -34.893655 -8.045063   \n",
       "                        00:00:04.098000       NaN    NaN -34.893655 -8.045065   \n",
       "...                                           ...    ...        ...       ...   \n",
       "2021-07-04 11:23:19.418 00:52:39.582000  0.050001  189.0 -34.894534 -8.046602   \n",
       "                        00:52:43.582000       NaN    NaN -34.894465 -8.046533   \n",
       "                        00:52:44.582000       NaN    NaN -34.894443 -8.046515   \n",
       "                        00:52:45.582000       NaN    NaN -34.894429 -8.046494   \n",
       "                        00:52:49.582000       NaN  190.0 -34.894395 -8.046398   \n",
       "\n",
       "                                           distpos         dist  \n",
       "start                   time                                     \n",
       "2020-08-30 09:08:51.012 00:00:00               NaN          NaN  \n",
       "                        00:00:01.091000   1.690587     1.690587  \n",
       "                        00:00:02.091000   2.095596     3.786183  \n",
       "                        00:00:03.098000   1.594298     5.380481  \n",
       "                        00:00:04.098000   0.163334     5.543815  \n",
       "...                                            ...          ...  \n",
       "2021-07-04 11:23:19.418 00:52:39.582000  12.015437  8220.018885  \n",
       "                        00:52:43.582000  10.749779  8230.768664  \n",
       "                        00:52:44.582000   3.163638  8233.932302  \n",
       "                        00:52:45.582000   2.851535  8236.783837  \n",
       "                        00:52:49.582000  11.300740  8248.084577  \n",
       "\n",
       "[48794 rows x 6 columns]"
      ],
      "text/html": "<div>\n<style scoped>\n    .dataframe tbody tr th:only-of-type {\n        vertical-align: middle;\n    }\n\n    .dataframe tbody tr th {\n        vertical-align: top;\n    }\n\n    .dataframe thead th {\n        text-align: right;\n    }\n</style>\n<table border=\"1\" class=\"dataframe\">\n  <thead>\n    <tr style=\"text-align: right;\">\n      <th></th>\n      <th></th>\n      <th>alt</th>\n      <th>hr</th>\n      <th>lon</th>\n      <th>lat</th>\n      <th>distpos</th>\n      <th>dist</th>\n    </tr>\n    <tr>\n      <th>start</th>\n      <th>time</th>\n      <th></th>\n      <th></th>\n      <th></th>\n      <th></th>\n      <th></th>\n      <th></th>\n    </tr>\n  </thead>\n  <tbody>\n    <tr>\n      <th rowspan=\"5\" valign=\"top\">2020-08-30 09:08:51.012</th>\n      <th>00:00:00</th>\n      <td>NaN</td>\n      <td>NaN</td>\n      <td>-34.893609</td>\n      <td>-8.045055</td>\n      <td>NaN</td>\n      <td>NaN</td>\n    </tr>\n    <tr>\n      <th>00:00:01.091000</th>\n      <td>NaN</td>\n      <td>NaN</td>\n      <td>-34.893624</td>\n      <td>-8.045054</td>\n      <td>1.690587</td>\n      <td>1.690587</td>\n    </tr>\n    <tr>\n      <th>00:00:02.091000</th>\n      <td>NaN</td>\n      <td>NaN</td>\n      <td>-34.893641</td>\n      <td>-8.045061</td>\n      <td>2.095596</td>\n      <td>3.786183</td>\n    </tr>\n    <tr>\n      <th>00:00:03.098000</th>\n      <td>NaN</td>\n      <td>NaN</td>\n      <td>-34.893655</td>\n      <td>-8.045063</td>\n      <td>1.594298</td>\n      <td>5.380481</td>\n    </tr>\n    <tr>\n      <th>00:00:04.098000</th>\n      <td>NaN</td>\n      <td>NaN</td>\n      <td>-34.893655</td>\n      <td>-8.045065</td>\n      <td>0.163334</td>\n      <td>5.543815</td>\n    </tr>\n    <tr>\n      <th>...</th>\n      <th>...</th>\n      <td>...</td>\n      <td>...</td>\n      <td>...</td>\n      <td>...</td>\n      <td>...</td>\n      <td>...</td>\n    </tr>\n    <tr>\n      <th rowspan=\"5\" valign=\"top\">2021-07-04 11:23:19.418</th>\n      <th>00:52:39.582000</th>\n      <td>0.050001</td>\n      <td>189.0</td>\n      <td>-34.894534</td>\n      <td>-8.046602</td>\n      <td>12.015437</td>\n      <td>8220.018885</td>\n    </tr>\n    <tr>\n      <th>00:52:43.582000</th>\n      <td>NaN</td>\n      <td>NaN</td>\n      <td>-34.894465</td>\n      <td>-8.046533</td>\n      <td>10.749779</td>\n      <td>8230.768664</td>\n    </tr>\n    <tr>\n      <th>00:52:44.582000</th>\n      <td>NaN</td>\n      <td>NaN</td>\n      <td>-34.894443</td>\n      <td>-8.046515</td>\n      <td>3.163638</td>\n      <td>8233.932302</td>\n    </tr>\n    <tr>\n      <th>00:52:45.582000</th>\n      <td>NaN</td>\n      <td>NaN</td>\n      <td>-34.894429</td>\n      <td>-8.046494</td>\n      <td>2.851535</td>\n      <td>8236.783837</td>\n    </tr>\n    <tr>\n      <th>00:52:49.582000</th>\n      <td>NaN</td>\n      <td>190.0</td>\n      <td>-34.894395</td>\n      <td>-8.046398</td>\n      <td>11.300740</td>\n      <td>8248.084577</td>\n    </tr>\n  </tbody>\n</table>\n<p>48794 rows × 6 columns</p>\n</div>"
     },
     "metadata": {},
     "execution_count": 16
    }
   ],
   "source": [
    "#In this example we compute the distance and the distance per position across all workouts\n",
    "session = session.session.distance()\n",
    "session"
   ]
  },
  {
   "cell_type": "code",
   "execution_count": 17,
   "metadata": {},
   "outputs": [],
   "source": [
    "#comput the speed for each activity\n",
    "session = session.session.speed(from_distances=True)\n",
    "#compute the pace for each activity\n",
    "session = session.session.pace()\n",
    "#compute the inactivity periods for each activity\n",
    "session = session.session.only_moving()"
   ]
  },
  {
   "source": [
    "How many activities are there in the activity ? There is a custom method `count` that returns the total number of activities in the season frame."
   ],
   "cell_type": "markdown",
   "metadata": {}
  },
  {
   "cell_type": "code",
   "execution_count": 22,
   "metadata": {},
   "outputs": [
    {
     "output_type": "stream",
     "name": "stdout",
     "text": [
      "68 activities\n"
     ]
    }
   ],
   "source": [
    "print (session.session.count(), 'activities') "
   ]
  },
  {
   "source": [
    "### Session summary statistics"
   ],
   "cell_type": "markdown",
   "metadata": {}
  },
  {
   "source": [
    "After the loading and metrics computation for all the activities, we now can load the basic summaries about the training sessions: time spent, total distance, mean speed and other insightful statistics for each running activity.  For this task, we may accomplish it by calling the method ``runpandas.types.session._SessionAcessor.summarize`` .  It will return a basic Dataframe including all the aggregated statistics per activity from the season frame. "
   ],
   "cell_type": "markdown",
   "metadata": {}
  },
  {
   "cell_type": "code",
   "execution_count": 18,
   "metadata": {},
   "outputs": [
    {
     "output_type": "execute_result",
     "data": {
      "text/plain": [
       "                            moving_time  mean_speed  max_speed mean_pace  \\\n",
       "start                                                                      \n",
       "2020-07-03 09:50:53.162 00:25:29.838000    2.642051   4.879655  00:06:18   \n",
       "2020-07-05 09:33:20.999 00:05:04.999000    2.227637   6.998021  00:07:28   \n",
       "2020-07-05 09:41:59.999        00:18:19    1.918949   6.563570  00:08:41   \n",
       "2020-07-13 09:13:58.718 00:40:21.281000    2.509703   8.520387  00:06:38   \n",
       "2020-07-17 09:33:02.308 00:32:07.691000    2.643278   8.365431  00:06:18   \n",
       "...                                 ...         ...        ...       ...   \n",
       "2021-06-13 09:22:30.985 01:32:33.018000    2.612872  23.583956  00:06:22   \n",
       "2021-06-20 09:16:55.163 00:59:44.512000    2.492640   6.065895  00:06:41   \n",
       "2021-06-23 09:37:44.000 00:26:49.001000    2.501796   5.641343  00:06:39   \n",
       "2021-06-27 09:50:08.664 00:31:42.336000    2.646493  32.734124  00:06:17   \n",
       "2021-07-04 11:23:19.418 00:47:47.583000    2.602263   4.212320  00:06:24   \n",
       "\n",
       "                        max_pace  mean_moving_speed mean_moving_pace  \\\n",
       "start                                                                  \n",
       "2020-07-03 09:50:53.162 00:03:24           2.665008         00:06:15   \n",
       "2020-07-05 09:33:20.999 00:02:22           3.072098         00:05:25   \n",
       "2020-07-05 09:41:59.999 00:02:32           2.729788         00:06:06   \n",
       "2020-07-13 09:13:58.718 00:01:57           2.573151         00:06:28   \n",
       "2020-07-17 09:33:02.308 00:01:59           2.643278         00:06:18   \n",
       "...                          ...                ...              ...   \n",
       "2021-06-13 09:22:30.985 00:00:42           2.810855         00:05:55   \n",
       "2021-06-20 09:16:55.163 00:02:44           2.749453         00:06:03   \n",
       "2021-06-23 09:37:44.000 00:02:57           2.568947         00:06:29   \n",
       "2021-06-27 09:50:08.664 00:00:30           2.661853         00:06:15   \n",
       "2021-07-04 11:23:19.418 00:03:57           2.856801         00:05:50   \n",
       "\n",
       "                         mean_cadence  max_cadence  mean_moving_cadence  \\\n",
       "start                                                                     \n",
       "2020-07-03 09:50:53.162           NaN          NaN                  NaN   \n",
       "2020-07-05 09:33:20.999           NaN          NaN                  NaN   \n",
       "2020-07-05 09:41:59.999           NaN          NaN                  NaN   \n",
       "2020-07-13 09:13:58.718           NaN          NaN                  NaN   \n",
       "2020-07-17 09:33:02.308           NaN          NaN                  NaN   \n",
       "...                               ...          ...                  ...   \n",
       "2021-06-13 09:22:30.985           NaN          NaN                  NaN   \n",
       "2021-06-20 09:16:55.163           NaN          NaN                  NaN   \n",
       "2021-06-23 09:37:44.000           NaN          NaN                  NaN   \n",
       "2021-06-27 09:50:08.664           NaN          NaN                  NaN   \n",
       "2021-07-04 11:23:19.418           NaN          NaN                  NaN   \n",
       "\n",
       "                         mean_heart_rate  max_heart_rate  \\\n",
       "start                                                      \n",
       "2020-07-03 09:50:53.162       178.819923           188.0   \n",
       "2020-07-05 09:33:20.999       168.345455           176.0   \n",
       "2020-07-05 09:41:59.999       173.894180           185.0   \n",
       "2020-07-13 09:13:58.718       170.808176           185.0   \n",
       "2020-07-17 09:33:02.308       176.436242           186.0   \n",
       "...                                  ...             ...   \n",
       "2021-06-13 09:22:30.985       169.340812           183.0   \n",
       "2021-06-20 09:16:55.163       170.539809           190.0   \n",
       "2021-06-23 09:37:44.000       156.864865           171.0   \n",
       "2021-06-27 09:50:08.664       166.642857           176.0   \n",
       "2021-07-04 11:23:19.418       177.821862           192.0   \n",
       "\n",
       "                         mean_moving_heart_rate  mean_temperature  \\\n",
       "start                                                               \n",
       "2020-07-03 09:50:53.162              178.872587               NaN   \n",
       "2020-07-05 09:33:20.999              168.900000               NaN   \n",
       "2020-07-05 09:41:59.999              174.577143               NaN   \n",
       "2020-07-13 09:13:58.718              170.795527               NaN   \n",
       "2020-07-17 09:33:02.308              176.436242               NaN   \n",
       "...                                         ...               ...   \n",
       "2021-06-13 09:22:30.985              169.655879               NaN   \n",
       "2021-06-20 09:16:55.163              171.231392               NaN   \n",
       "2021-06-23 09:37:44.000              156.957031               NaN   \n",
       "2021-06-27 09:50:08.664              166.721116               NaN   \n",
       "2021-07-04 11:23:19.418              177.956967               NaN   \n",
       "\n",
       "                         min_temperature  max_temperature  total_distance  \\\n",
       "start                                                                       \n",
       "2020-07-03 09:50:53.162              NaN              NaN     4089.467333   \n",
       "2020-07-05 09:33:20.999              NaN              NaN      980.162640   \n",
       "2020-07-05 09:41:59.999              NaN              NaN     3139.401118   \n",
       "2020-07-13 09:13:58.718              NaN              NaN     6282.491059   \n",
       "2020-07-17 09:33:02.308              NaN              NaN     5095.423045   \n",
       "...                                  ...              ...             ...   \n",
       "2021-06-13 09:22:30.985              NaN              NaN    15706.017295   \n",
       "2021-06-20 09:16:55.163              NaN              NaN     9965.168311   \n",
       "2021-06-23 09:37:44.000              NaN              NaN     4165.492241   \n",
       "2021-06-27 09:50:08.664              NaN              NaN     5074.217061   \n",
       "2021-07-04 11:23:19.418              NaN              NaN     8248.084577   \n",
       "\n",
       "                          ellapsed_time  \n",
       "start                                    \n",
       "2020-07-03 09:50:53.162 00:25:47.838000  \n",
       "2020-07-05 09:33:20.999 00:07:20.001000  \n",
       "2020-07-05 09:41:59.999        00:27:16  \n",
       "2020-07-13 09:13:58.718 00:41:43.281000  \n",
       "2020-07-17 09:33:02.308 00:32:07.691000  \n",
       "...                                 ...  \n",
       "2021-06-13 09:22:30.985 01:40:11.016000  \n",
       "2021-06-20 09:16:55.163 01:06:37.837000  \n",
       "2021-06-23 09:37:44.000 00:27:45.001000  \n",
       "2021-06-27 09:50:08.664 00:31:57.336000  \n",
       "2021-07-04 11:23:19.418 00:52:49.582000  \n",
       "\n",
       "[68 rows x 18 columns]"
      ],
      "text/html": "<div>\n<style scoped>\n    .dataframe tbody tr th:only-of-type {\n        vertical-align: middle;\n    }\n\n    .dataframe tbody tr th {\n        vertical-align: top;\n    }\n\n    .dataframe thead th {\n        text-align: right;\n    }\n</style>\n<table border=\"1\" class=\"dataframe\">\n  <thead>\n    <tr style=\"text-align: right;\">\n      <th></th>\n      <th>moving_time</th>\n      <th>mean_speed</th>\n      <th>max_speed</th>\n      <th>mean_pace</th>\n      <th>max_pace</th>\n      <th>mean_moving_speed</th>\n      <th>mean_moving_pace</th>\n      <th>mean_cadence</th>\n      <th>max_cadence</th>\n      <th>mean_moving_cadence</th>\n      <th>mean_heart_rate</th>\n      <th>max_heart_rate</th>\n      <th>mean_moving_heart_rate</th>\n      <th>mean_temperature</th>\n      <th>min_temperature</th>\n      <th>max_temperature</th>\n      <th>total_distance</th>\n      <th>ellapsed_time</th>\n    </tr>\n    <tr>\n      <th>start</th>\n      <th></th>\n      <th></th>\n      <th></th>\n      <th></th>\n      <th></th>\n      <th></th>\n      <th></th>\n      <th></th>\n      <th></th>\n      <th></th>\n      <th></th>\n      <th></th>\n      <th></th>\n      <th></th>\n      <th></th>\n      <th></th>\n      <th></th>\n      <th></th>\n    </tr>\n  </thead>\n  <tbody>\n    <tr>\n      <th>2020-07-03 09:50:53.162</th>\n      <td>00:25:29.838000</td>\n      <td>2.642051</td>\n      <td>4.879655</td>\n      <td>00:06:18</td>\n      <td>00:03:24</td>\n      <td>2.665008</td>\n      <td>00:06:15</td>\n      <td>NaN</td>\n      <td>NaN</td>\n      <td>NaN</td>\n      <td>178.819923</td>\n      <td>188.0</td>\n      <td>178.872587</td>\n      <td>NaN</td>\n      <td>NaN</td>\n      <td>NaN</td>\n      <td>4089.467333</td>\n      <td>00:25:47.838000</td>\n    </tr>\n    <tr>\n      <th>2020-07-05 09:33:20.999</th>\n      <td>00:05:04.999000</td>\n      <td>2.227637</td>\n      <td>6.998021</td>\n      <td>00:07:28</td>\n      <td>00:02:22</td>\n      <td>3.072098</td>\n      <td>00:05:25</td>\n      <td>NaN</td>\n      <td>NaN</td>\n      <td>NaN</td>\n      <td>168.345455</td>\n      <td>176.0</td>\n      <td>168.900000</td>\n      <td>NaN</td>\n      <td>NaN</td>\n      <td>NaN</td>\n      <td>980.162640</td>\n      <td>00:07:20.001000</td>\n    </tr>\n    <tr>\n      <th>2020-07-05 09:41:59.999</th>\n      <td>00:18:19</td>\n      <td>1.918949</td>\n      <td>6.563570</td>\n      <td>00:08:41</td>\n      <td>00:02:32</td>\n      <td>2.729788</td>\n      <td>00:06:06</td>\n      <td>NaN</td>\n      <td>NaN</td>\n      <td>NaN</td>\n      <td>173.894180</td>\n      <td>185.0</td>\n      <td>174.577143</td>\n      <td>NaN</td>\n      <td>NaN</td>\n      <td>NaN</td>\n      <td>3139.401118</td>\n      <td>00:27:16</td>\n    </tr>\n    <tr>\n      <th>2020-07-13 09:13:58.718</th>\n      <td>00:40:21.281000</td>\n      <td>2.509703</td>\n      <td>8.520387</td>\n      <td>00:06:38</td>\n      <td>00:01:57</td>\n      <td>2.573151</td>\n      <td>00:06:28</td>\n      <td>NaN</td>\n      <td>NaN</td>\n      <td>NaN</td>\n      <td>170.808176</td>\n      <td>185.0</td>\n      <td>170.795527</td>\n      <td>NaN</td>\n      <td>NaN</td>\n      <td>NaN</td>\n      <td>6282.491059</td>\n      <td>00:41:43.281000</td>\n    </tr>\n    <tr>\n      <th>2020-07-17 09:33:02.308</th>\n      <td>00:32:07.691000</td>\n      <td>2.643278</td>\n      <td>8.365431</td>\n      <td>00:06:18</td>\n      <td>00:01:59</td>\n      <td>2.643278</td>\n      <td>00:06:18</td>\n      <td>NaN</td>\n      <td>NaN</td>\n      <td>NaN</td>\n      <td>176.436242</td>\n      <td>186.0</td>\n      <td>176.436242</td>\n      <td>NaN</td>\n      <td>NaN</td>\n      <td>NaN</td>\n      <td>5095.423045</td>\n      <td>00:32:07.691000</td>\n    </tr>\n    <tr>\n      <th>...</th>\n      <td>...</td>\n      <td>...</td>\n      <td>...</td>\n      <td>...</td>\n      <td>...</td>\n      <td>...</td>\n      <td>...</td>\n      <td>...</td>\n      <td>...</td>\n      <td>...</td>\n      <td>...</td>\n      <td>...</td>\n      <td>...</td>\n      <td>...</td>\n      <td>...</td>\n      <td>...</td>\n      <td>...</td>\n      <td>...</td>\n    </tr>\n    <tr>\n      <th>2021-06-13 09:22:30.985</th>\n      <td>01:32:33.018000</td>\n      <td>2.612872</td>\n      <td>23.583956</td>\n      <td>00:06:22</td>\n      <td>00:00:42</td>\n      <td>2.810855</td>\n      <td>00:05:55</td>\n      <td>NaN</td>\n      <td>NaN</td>\n      <td>NaN</td>\n      <td>169.340812</td>\n      <td>183.0</td>\n      <td>169.655879</td>\n      <td>NaN</td>\n      <td>NaN</td>\n      <td>NaN</td>\n      <td>15706.017295</td>\n      <td>01:40:11.016000</td>\n    </tr>\n    <tr>\n      <th>2021-06-20 09:16:55.163</th>\n      <td>00:59:44.512000</td>\n      <td>2.492640</td>\n      <td>6.065895</td>\n      <td>00:06:41</td>\n      <td>00:02:44</td>\n      <td>2.749453</td>\n      <td>00:06:03</td>\n      <td>NaN</td>\n      <td>NaN</td>\n      <td>NaN</td>\n      <td>170.539809</td>\n      <td>190.0</td>\n      <td>171.231392</td>\n      <td>NaN</td>\n      <td>NaN</td>\n      <td>NaN</td>\n      <td>9965.168311</td>\n      <td>01:06:37.837000</td>\n    </tr>\n    <tr>\n      <th>2021-06-23 09:37:44.000</th>\n      <td>00:26:49.001000</td>\n      <td>2.501796</td>\n      <td>5.641343</td>\n      <td>00:06:39</td>\n      <td>00:02:57</td>\n      <td>2.568947</td>\n      <td>00:06:29</td>\n      <td>NaN</td>\n      <td>NaN</td>\n      <td>NaN</td>\n      <td>156.864865</td>\n      <td>171.0</td>\n      <td>156.957031</td>\n      <td>NaN</td>\n      <td>NaN</td>\n      <td>NaN</td>\n      <td>4165.492241</td>\n      <td>00:27:45.001000</td>\n    </tr>\n    <tr>\n      <th>2021-06-27 09:50:08.664</th>\n      <td>00:31:42.336000</td>\n      <td>2.646493</td>\n      <td>32.734124</td>\n      <td>00:06:17</td>\n      <td>00:00:30</td>\n      <td>2.661853</td>\n      <td>00:06:15</td>\n      <td>NaN</td>\n      <td>NaN</td>\n      <td>NaN</td>\n      <td>166.642857</td>\n      <td>176.0</td>\n      <td>166.721116</td>\n      <td>NaN</td>\n      <td>NaN</td>\n      <td>NaN</td>\n      <td>5074.217061</td>\n      <td>00:31:57.336000</td>\n    </tr>\n    <tr>\n      <th>2021-07-04 11:23:19.418</th>\n      <td>00:47:47.583000</td>\n      <td>2.602263</td>\n      <td>4.212320</td>\n      <td>00:06:24</td>\n      <td>00:03:57</td>\n      <td>2.856801</td>\n      <td>00:05:50</td>\n      <td>NaN</td>\n      <td>NaN</td>\n      <td>NaN</td>\n      <td>177.821862</td>\n      <td>192.0</td>\n      <td>177.956967</td>\n      <td>NaN</td>\n      <td>NaN</td>\n      <td>NaN</td>\n      <td>8248.084577</td>\n      <td>00:52:49.582000</td>\n    </tr>\n  </tbody>\n</table>\n<p>68 rows × 18 columns</p>\n</div>"
     },
     "metadata": {},
     "execution_count": 18
    }
   ],
   "source": [
    "summary = session.session.summarize()\n",
    "summary"
   ]
  },
  {
   "cell_type": "code",
   "execution_count": 27,
   "metadata": {},
   "outputs": [
    {
     "output_type": "stream",
     "name": "stdout",
     "text": [
      "Session Interval: 366 days\nTotal Workouts: 68 runnings\nTota KM Distance: 491.77377537338896\nAverage Pace (all runs): 0 days 00:07:18.411764\nAverage Moving Pace (all runs): 0 days 00:06:02.147058\nAverage KM Distance (all runs): 7.23\n"
     ]
    }
   ],
   "source": [
    "print('Session Interval:', (summary.index.to_series().max() - summary.index.to_series().min()).days, 'days')\n",
    "print('Total Workouts:', len(summary), 'runnings')\n",
    "print('Tota KM Distance:', summary['total_distance'].sum() / 1000)\n",
    "print('Average Pace (all runs):', summary.mean_pace.mean())\n",
    "print('Average Moving Pace (all runs):', summary.mean_moving_pace.mean())\n",
    "print('Average KM Distance (all runs):', round(summary.total_distance.mean()/ 1000,2))"
   ]
  },
  {
   "source": [
    "As we can see above, we analyzed the period of 366 days (one year) of running workouts. In this period, she ran 68 times which achieved the total distance of 491 km! The average moving pace is  06'02\" per km and average distance of 7.23km!  Great numbers for a starter runner!"
   ],
   "cell_type": "markdown",
   "metadata": {}
  },
  {
   "source": [
    "## What is coming next ?"
   ],
   "cell_type": "markdown",
   "metadata": {}
  },
  {
   "source": [
    "The next releases will focus on reading of Nike Run app workouts and support plugin for marathon results.  It will be awesome, keep tunned!"
   ],
   "cell_type": "markdown",
   "metadata": {}
  },
  {
   "source": [
    "## Thanks"
   ],
   "cell_type": "markdown",
   "metadata": {}
  },
  {
   "source": [
    "We are constantly developing Runpandas improving its existing features and adding new ones. We will be glad to hear from you about what you like or don’t like, what features you may wish to see in upcoming releases. Please feel free to contact us."
   ],
   "cell_type": "markdown",
   "metadata": {}
  }
 ]
}