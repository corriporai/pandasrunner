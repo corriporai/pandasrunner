{
 "metadata": {
  "language_info": {
   "codemirror_mode": {
    "name": "ipython",
    "version": 3
   },
   "file_extension": ".py",
   "mimetype": "text/x-python",
   "name": "python",
   "nbconvert_exporter": "python",
   "pygments_lexer": "ipython3",
   "version": "3.8.3"
  },
  "orig_nbformat": 2,
  "kernelspec": {
   "name": "python383jvsc74a57bd0449a6a5da217c2d6cffa80a6a7a4724fa6726b57ec2f120da10e91a7f29f4eb0",
   "display_name": "Python 3.8.3 64-bit ('runpandas_dev': conda)"
  }
 },
 "nbformat": 4,
 "nbformat_minor": 2,
 "cells": [
  {
   "source": [
    "# Release 0.4.0 with new running metrics and examples package!\n",
    "> New release of runpandas comes with new features and improved docs!\n",
    "\n",
    "- toc: false \n",
    "- badges: true\n",
    "- comments: true\n",
    "- author: Marcel Caraciolo\n",
    "- categories: [general, jupyter, releases]\n",
    "- image: images/cardio-climbing.png"
   ],
   "cell_type": "markdown",
   "metadata": {}
  },
  {
   "source": [
    "> This  current state of the project is `early beta`, which means that features can be added, removed or changed in backwards incompatible ways."
   ],
   "cell_type": "markdown",
   "metadata": {}
  },
  {
   "source": [
    "It has beeen a while since our last release, this is because we are working hard in new features in our new release of [RunPandas 0.4](https://pypi.org/project/runpandas/). Let's highlight them:"
   ],
   "cell_type": "markdown",
   "metadata": {}
  },
  {
   "source": [
    "- The Activity now provides extra running statistics such as Vertical Altitude Speed (VAM), mean speed, mean pace, gradient, and mean heart rate.\n",
    "- Now we provide in our `runpandas.MeasureSeries` the capability of conversions such as distance conversion (km - miles), latitudes and longitudes (degrees - radians) and pace conversion (min/km and min/mile).\n",
    "- There is an auxiliar package for loading activity examples for testing and demo purposes:  `runpandas.datasets` . The goal is to enrich with several real examples in FIT, GPX and TCX format files.\n",
    "- Finally, there is a CI workflow for uploading automatically a package to Pypi after release."
   ],
   "cell_type": "markdown",
   "metadata": {}
  },
  {
   "source": [
    "## What is Runpandas?\n"
   ],
   "cell_type": "markdown",
   "metadata": {}
  },
  {
   "source": [
    "Runpandas is a python package based on ``pandas`` data analysis library, that makes it easier to perform data analysis from your running sessions stored at tracking files from cellphones and GPS smartwatches or social sports applications such as Strava, MapMyRUn, NikeRunClub, etc. It is designed to enable reading, transforming and running metrics analytics from several tracking files and apps.\n"
   ],
   "cell_type": "markdown",
   "metadata": {}
  },
  {
   "source": [
    "## Main Features\n"
   ],
   "cell_type": "markdown",
   "metadata": {}
  },
  {
   "source": [
    "### Support to some new running metrics such as mean pace and mean speed. "
   ],
   "cell_type": "markdown",
   "metadata": {}
  },
  {
   "source": [
    "First let's explain the differences between mean pace and mean speed.  Although both values express similar information, they are the reverse of each other. The Pace is how much time you need to cover a particular distance, while speed is an indicator of the number of meters you are able to cover within one second. These values can be presented different, depending on the measure units  used to express these metrics. Pace is given in unit of time per unit of distance, whereas speed is distance over time.\n",
    "\n",
    "The formulas are:\n",
    "\n",
    "``Speed (m/s) = distance (m) / time (s)``\n",
    "\n",
    "``Pace (s/m) = time (sec) / distance (m)``\n",
    "\n",
    "We provide in runpandas new acessors (`runpandas.acessors`) for computing those metrics:"
   ],
   "cell_type": "markdown",
   "metadata": {}
  },
  {
   "cell_type": "code",
   "execution_count": 78,
   "metadata": {},
   "outputs": [],
   "source": [
    "#Disable Warnings for a better visualization\n",
    "import warnings\n",
    "warnings.filterwarnings('ignore')"
   ]
  },
  {
   "cell_type": "code",
   "execution_count": 60,
   "metadata": {},
   "outputs": [],
   "source": [
    "# !pip install runpandas\n",
    "import runpandas as rpd\n",
    "activity = rpd.read_file('./data/sample.tcx')"
   ]
  },
  {
   "cell_type": "code",
   "execution_count": 61,
   "metadata": {},
   "outputs": [
    {
     "output_type": "execute_result",
     "data": {
      "text/plain": [
       "time\n",
       "00:00:00         NaN\n",
       "00:00:01    0.333146\n",
       "00:00:06    0.335758\n",
       "00:00:12    1.939984\n",
       "00:00:16    2.295962\n",
       "Name: speed, dtype: float64"
      ]
     },
     "metadata": {},
     "execution_count": 61
    }
   ],
   "source": [
    "#compute the distance using haversine formula between two consecutive latitude, longitudes observations.\n",
    "activity['distpos']  = activity.compute.distance()\n",
    "#compute the speed normalized per interval.\n",
    "activity['speed']  = activity.compute.speed(from_distances=True)\n",
    "activity['speed'].head()"
   ]
  },
  {
   "cell_type": "code",
   "execution_count": 62,
   "metadata": {},
   "outputs": [
    {
     "output_type": "stream",
     "name": "stdout",
     "text": [
      "Mean speed m/s: 2.3545989706029533\nMean pace s/m: 0 days 00:00:00.424701\n"
     ]
    }
   ],
   "source": [
    "print('Mean speed m/s:', activity.mean_speed())\n",
    "print('Mean pace s/m:',  activity.mean_pace())"
   ]
  },
  {
   "source": [
    "Generally this is shown in different units like speed (km/h) and pace (min/km):"
   ],
   "cell_type": "markdown",
   "metadata": {}
  },
  {
   "cell_type": "code",
   "execution_count": 63,
   "metadata": {},
   "outputs": [
    {
     "output_type": "stream",
     "name": "stdout",
     "text": [
      "Mean speed km/h: 8.476556294170631\nMean pace min/km: 0 days 00:07:04\n"
     ]
    }
   ],
   "source": [
    "#convert m/s to km/h by multiplying the factor of 3.6\n",
    "print('Mean speed km/h:', activity.mean_speed() * 3.6)\n",
    "\n",
    "#We define a auxiliar function to convert the pace from sec/m to min/km:\n",
    "def convert_pace_secmeters2minkms(seconds):\n",
    "    from pandas import Timedelta\n",
    "    pace_min = int((seconds * 1000) / 60)\n",
    "    pace_sec = int(seconds * 1000 - (pace_min * 60))\n",
    "    total_seconds = (pace_min * 60) + pace_sec\n",
    "    return Timedelta(seconds=total_seconds)\n",
    "\n",
    "pace_min_km = convert_pace_secmeters2minkms(activity.mean_pace().total_seconds())\n",
    "\n",
    "print('Mean pace min/km:', pace_min_km)"
   ]
  },
  {
   "source": [
    "### Support to gradient and vertical speed. "
   ],
   "cell_type": "markdown",
   "metadata": {}
  },
  {
   "source": [
    "Gradient is a measure of the route steepness-the magnitude of its incline or slope as compared to the horizontal. Most often presented as a percentage, the gradient of a climb will normally fall somewhere between 3-15 percent. For practical use, it is usually used for estimating the difficulty of the climb during the route.\n"
   ],
   "cell_type": "markdown",
   "metadata": {}
  },
  {
   "cell_type": "code",
   "execution_count": 64,
   "metadata": {},
   "outputs": [
    {
     "output_type": "execute_result",
     "data": {
      "text/plain": [
       "time\n",
       "00:00:00         NaN\n",
       "00:00:01         NaN\n",
       "00:00:06    0.000000\n",
       "00:00:12   -0.121218\n",
       "00:00:16    0.000000\n",
       "              ...   \n",
       "00:32:51    0.028739\n",
       "00:32:56   -0.028715\n",
       "00:33:02   -0.042557\n",
       "00:33:07   -0.051672\n",
       "00:33:11   -0.097842\n",
       "Name: grad, Length: 383, dtype: float64"
      ]
     },
     "metadata": {},
     "execution_count": 64
    }
   ],
   "source": [
    "#Gradient computed through the distance points\n",
    "activity['grad']  = activity.compute.gradient()\n",
    "activity['grad']"
   ]
  },
  {
   "source": [
    "VAM (Vertical Altitude Speed) similar to speed except it tracks how fast you go up vertically rather than horizontally between two points. While speed is measured in miles or kilometers per hour, VAM is measured in vertical meters per hour (vmh). It tells you how many meters you would climb if you went up a moderate grade for an hour."
   ],
   "cell_type": "markdown",
   "metadata": {}
  },
  {
   "cell_type": "code",
   "execution_count": 65,
   "metadata": {},
   "outputs": [
    {
     "output_type": "execute_result",
     "data": {
      "text/plain": [
       "time\n",
       "00:00:00         NaN\n",
       "00:00:01    0.000000\n",
       "00:00:06    0.000000\n",
       "00:00:12   -0.240336\n",
       "00:00:16    0.000000\n",
       "              ...   \n",
       "00:32:51    0.096118\n",
       "00:32:56   -0.096118\n",
       "00:33:02   -0.160217\n",
       "00:33:07   -0.192285\n",
       "00:33:11   -0.360504\n",
       "Name: vam, Length: 383, dtype: float64"
      ]
     },
     "metadata": {},
     "execution_count": 65
    }
   ],
   "source": [
    "#Vertical Altitude Speed (VAM) in m/s\n",
    "activity['vam']  = activity.compute.vertical_speed()\n",
    "activity['vam']"
   ]
  },
  {
   "source": [
    "### Support to other metrics such as mean heart_pace"
   ],
   "cell_type": "markdown",
   "metadata": {}
  },
  {
   "cell_type": "code",
   "execution_count": 66,
   "metadata": {},
   "outputs": [
    {
     "output_type": "execute_result",
     "data": {
      "text/plain": [
       "('bpm', 156)"
      ]
     },
     "metadata": {},
     "execution_count": 66
    }
   ],
   "source": [
    "#Meart heart rate through the activity\n",
    "'bpm', int(activity.mean_heart_rate())"
   ]
  },
  {
   "source": [
    "### Some conversion functions available for measure metrics"
   ],
   "cell_type": "markdown",
   "metadata": {}
  },
  {
   "cell_type": "code",
   "execution_count": 67,
   "metadata": {},
   "outputs": [
    {
     "output_type": "execute_result",
     "data": {
      "text/plain": [
       "time\n",
       "00:00:00          NaN\n",
       "00:00:01     1.199325\n",
       "00:00:06     1.208731\n",
       "00:00:12     6.983941\n",
       "00:00:16     8.265462\n",
       "              ...    \n",
       "00:32:51    11.864734\n",
       "00:32:56    12.001946\n",
       "00:33:02    13.600020\n",
       "00:33:07    13.428554\n",
       "00:33:11    13.155589\n",
       "Name: speed, Length: 383, dtype: float64"
      ]
     },
     "metadata": {},
     "execution_count": 67
    }
   ],
   "source": [
    "#convert the speed m/s to km/h\n",
    "activity['speed'].kph"
   ]
  },
  {
   "cell_type": "code",
   "execution_count": 68,
   "metadata": {},
   "outputs": [
    {
     "output_type": "execute_result",
     "data": {
      "text/plain": [
       "time\n",
       "00:00:00          NaN\n",
       "00:00:01          NaN\n",
       "00:00:06     0.000000\n",
       "00:00:12   -12.121772\n",
       "00:00:16     0.000000\n",
       "              ...    \n",
       "00:32:51     2.873890\n",
       "00:32:56    -2.871543\n",
       "00:33:02    -4.255745\n",
       "00:33:07    -5.167165\n",
       "00:33:11    -9.784157\n",
       "Name: grad, Length: 383, dtype: float64"
      ]
     },
     "metadata": {},
     "execution_count": 68
    }
   ],
   "source": [
    "#gradient converted from degrees to percent\n",
    "activity['grad'].pct"
   ]
  },
  {
   "cell_type": "code",
   "execution_count": 69,
   "metadata": {},
   "outputs": [
    {
     "output_type": "stream",
     "name": "stdout",
     "text": [
      "Ascent 153.80981445000006\nDescent -166.30712890300006\n"
     ]
    }
   ],
   "source": [
    "#Total Altitude descent and ascent\n",
    "print('Ascent', sum(activity['alt'].ascent))\n",
    "print('Descent', sum(activity['alt'].descent))"
   ]
  },
  {
   "cell_type": "code",
   "execution_count": 70,
   "metadata": {},
   "outputs": [
    {
     "output_type": "execute_result",
     "data": {
      "text/plain": [
       "time\n",
       "00:00:00    0.000000\n",
       "00:00:01    0.000000\n",
       "00:00:06    0.001107\n",
       "00:00:12    0.013003\n",
       "00:00:16    0.022405\n",
       "              ...   \n",
       "00:32:51    4.613642\n",
       "00:32:56    4.630378\n",
       "00:33:02    4.652966\n",
       "00:33:07    4.671573\n",
       "00:33:11    4.686311\n",
       "Name: dist, Length: 383, dtype: float64"
      ]
     },
     "metadata": {},
     "execution_count": 70
    }
   ],
   "source": [
    "#distance from meters to kms\n",
    "activity['dist'].km"
   ]
  },
  {
   "source": [
    "### An example activities package including several real word activities from different formats.  "
   ],
   "cell_type": "markdown",
   "metadata": {}
  },
  {
   "source": [
    "The runpandas package also comes with extra batteries, such as our ``runpandas.datasets package``, which includes a range of example data for testing purposes. There is a dedicated repository with all the data available. An index of the data is kept here.\n",
    "\n"
   ],
   "cell_type": "markdown",
   "metadata": {}
  },
  {
   "cell_type": "code",
   "execution_count": 71,
   "metadata": {},
   "outputs": [
    {
     "output_type": "stream",
     "name": "stdout",
     "text": [
      "Synced from watch Garmin Fenix 6S\n\nIncluded metrics: [<MetricsEnum.latitude: 'latitude'>, <MetricsEnum.longitude: 'longitude'>, <MetricsEnum.elevation: 'elevation'>, <MetricsEnum.heartrate: 'heartrate'>, <MetricsEnum.cadence: 'cadence'>, <MetricsEnum.distance: 'distance'>, <MetricsEnum.temperature: 'temperature'>]\n"
     ]
    }
   ],
   "source": [
    "example_fit = rpd.activity_examples(path='Garmin_Fenix_6S_Pro-Running.fit')\n",
    "print(example_fit.summary)\n",
    "print('Included metrics:', example_fit.included_data)"
   ]
  },
  {
   "cell_type": "code",
   "execution_count": 77,
   "metadata": {},
   "outputs": [
    {
     "output_type": "execute_result",
     "data": {
      "text/plain": [
       "          enhanced_speed  enhanced_altitude  ...        lat  temp\n",
       "time                                         ...                 \n",
       "00:00:00           0.000              254.0  ...  51.066280     8\n",
       "00:00:01           0.000              254.0  ...  51.066274     8\n",
       "00:00:10           1.698              254.0  ...  51.066249     8\n",
       "00:00:12           2.267              254.0  ...  51.066250     8\n",
       "00:00:21           2.127              254.6  ...  51.066231     8\n",
       "\n",
       "[5 rows x 13 columns]"
      ],
      "text/html": "<div>\n<style scoped>\n    .dataframe tbody tr th:only-of-type {\n        vertical-align: middle;\n    }\n\n    .dataframe tbody tr th {\n        vertical-align: top;\n    }\n\n    .dataframe thead th {\n        text-align: right;\n    }\n</style>\n<table border=\"1\" class=\"dataframe\">\n  <thead>\n    <tr style=\"text-align: right;\">\n      <th></th>\n      <th>enhanced_speed</th>\n      <th>enhanced_altitude</th>\n      <th>unknown_87</th>\n      <th>fractional_cadence</th>\n      <th>lap</th>\n      <th>session</th>\n      <th>unknown_108</th>\n      <th>dist</th>\n      <th>cad</th>\n      <th>hr</th>\n      <th>lon</th>\n      <th>lat</th>\n      <th>temp</th>\n    </tr>\n    <tr>\n      <th>time</th>\n      <th></th>\n      <th></th>\n      <th></th>\n      <th></th>\n      <th></th>\n      <th></th>\n      <th></th>\n      <th></th>\n      <th></th>\n      <th></th>\n      <th></th>\n      <th></th>\n      <th></th>\n    </tr>\n  </thead>\n  <tbody>\n    <tr>\n      <th>00:00:00</th>\n      <td>0.000</td>\n      <td>254.0</td>\n      <td>0</td>\n      <td>0.0</td>\n      <td>0</td>\n      <td>0</td>\n      <td>NaN</td>\n      <td>0.00</td>\n      <td>0</td>\n      <td>101</td>\n      <td>13.843376</td>\n      <td>51.066280</td>\n      <td>8</td>\n    </tr>\n    <tr>\n      <th>00:00:01</th>\n      <td>0.000</td>\n      <td>254.0</td>\n      <td>0</td>\n      <td>0.0</td>\n      <td>0</td>\n      <td>0</td>\n      <td>NaN</td>\n      <td>0.00</td>\n      <td>0</td>\n      <td>101</td>\n      <td>13.843374</td>\n      <td>51.066274</td>\n      <td>8</td>\n    </tr>\n    <tr>\n      <th>00:00:10</th>\n      <td>1.698</td>\n      <td>254.0</td>\n      <td>0</td>\n      <td>0.0</td>\n      <td>0</td>\n      <td>1</td>\n      <td>2362.0</td>\n      <td>0.00</td>\n      <td>83</td>\n      <td>97</td>\n      <td>13.843176</td>\n      <td>51.066249</td>\n      <td>8</td>\n    </tr>\n    <tr>\n      <th>00:00:12</th>\n      <td>2.267</td>\n      <td>254.0</td>\n      <td>0</td>\n      <td>0.0</td>\n      <td>0</td>\n      <td>1</td>\n      <td>2362.0</td>\n      <td>3.95</td>\n      <td>84</td>\n      <td>99</td>\n      <td>13.843118</td>\n      <td>51.066250</td>\n      <td>8</td>\n    </tr>\n    <tr>\n      <th>00:00:21</th>\n      <td>2.127</td>\n      <td>254.6</td>\n      <td>0</td>\n      <td>0.5</td>\n      <td>0</td>\n      <td>1</td>\n      <td>2552.0</td>\n      <td>16.67</td>\n      <td>87</td>\n      <td>100</td>\n      <td>13.842940</td>\n      <td>51.066231</td>\n      <td>8</td>\n    </tr>\n  </tbody>\n</table>\n</div>"
     },
     "metadata": {},
     "execution_count": 77
    }
   ],
   "source": [
    "rpd.read_file(example_fit.path).head()"
   ]
  },
  {
   "source": [
    "In case of you just only want to see all the activities in a specific file type , you can filter the ``runpandas.activities_examples``, which returns a filter iterable that you can iterate over:"
   ],
   "cell_type": "markdown",
   "metadata": {}
  },
  {
   "cell_type": "code",
   "execution_count": 73,
   "metadata": {},
   "outputs": [
    {
     "output_type": "stream",
     "name": "stdout",
     "text": [
      "https://raw.githubusercontent.com/corriporai/runpandas-data/master/activities/Garmin_Fenix_6S_Pro-Running.fit\nhttps://raw.githubusercontent.com/corriporai/runpandas-data/master/activities/Garmin_Fenix2_running_with_hrm.fit\nhttps://raw.githubusercontent.com/corriporai/runpandas-data/master/activities/Garmin_Forerunner_910XT-Running.fit\n"
     ]
    }
   ],
   "source": [
    "fit_examples = rpd.activity_examples(file_type=rpd.FileTypeEnum.FIT)\n",
    "for example in fit_examples:\n",
    "    #Download and play with the filtered examples\n",
    "    print(example.path)"
   ]
  },
  {
   "source": [
    "## What is coming next ?"
   ],
   "cell_type": "markdown",
   "metadata": {}
  },
  {
   "source": [
    "Working hard in advanced running metrics such as power , heart rate zones and the feature of printing the summary of the activity with the main statistics."
   ],
   "cell_type": "markdown",
   "metadata": {}
  },
  {
   "source": [
    "## Thanks"
   ],
   "cell_type": "markdown",
   "metadata": {}
  },
  {
   "source": [
    "We are constantly developing Runpandas improving its existing features and adding new ones. We will be glad to hear from you about what you like or don’t like, what features you may wish to see in upcoming releases. Please feel free to contact us."
   ],
   "cell_type": "markdown",
   "metadata": {}
  }
 ]
}