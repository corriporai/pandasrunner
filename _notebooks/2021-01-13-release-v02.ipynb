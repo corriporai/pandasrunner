{
 "metadata": {
  "language_info": {
   "codemirror_mode": {
    "name": "ipython",
    "version": 3
   },
   "file_extension": ".py",
   "mimetype": "text/x-python",
   "name": "python",
   "nbconvert_exporter": "python",
   "pygments_lexer": "ipython3",
   "version": "3.8.3-final"
  },
  "orig_nbformat": 2,
  "kernelspec": {
   "name": "python3",
   "display_name": "Python 3",
   "language": "python"
  }
 },
 "nbformat": 4,
 "nbformat_minor": 2,
 "cells": [
  {
   "source": [
    "# Release 0.2.0 and support to Strava! \n",
    "> Runpandas package comes with new features and improved docs!\n",
    "\n",
    "- toc: false \n",
    "- badges: true\n",
    "- comments: true\n",
    "- author: Marcel Caraciolo\n",
    "- categories: [general, jupyter, releases]\n",
    "- image: images/releasev02.png"
   ],
   "cell_type": "markdown",
   "metadata": {}
  },
  {
   "source": [
    "> This  current state of the project is `early beta`, which means that features can be added, removed or changed in backwards incompatible ways."
   ],
   "cell_type": "markdown",
   "metadata": {}
  },
  {
   "source": [
    "We are very excited to announce [RunPandas 0.2](https://pypi.org/project/runpandas/). This release comes with new features and fixes, let's highlight them:"
   ],
   "cell_type": "markdown",
   "metadata": {}
  },
  {
   "source": [
    "- [Improved docummentation](https://www.runpandas.run/en/latest/) with new sections such as User Guide, Install Guide, API Reference and Changelog.\n",
    "- Support to new code and docummentation third-party plugins like CodeFactor, Pepy, Zenodo and Binder.\n",
    "- Support to read multiple tracking files from a single directory \n",
    "- Added the feature of fetching activity data from social network [Strava](http://strava.com/)."
   ],
   "cell_type": "markdown",
   "metadata": {}
  },
  {
   "source": [
    "## What is Runpandas?\n"
   ],
   "cell_type": "markdown",
   "metadata": {}
  },
  {
   "source": [
    "Runpandas is a python package based on ``pandas`` data analysis library, that makes it easier to perform data analysis from your running sessions stored at tracking files from cellphones and GPS smartwatches or social sports applications such as Strava, MapMyRUn, NikeRunClub, etc. It is designed to enable reading, transforming and running metrics analytics from several tracking files and apps.\n"
   ],
   "cell_type": "markdown",
   "metadata": {}
  },
  {
   "source": [
    "## Main Features\n"
   ],
   "cell_type": "markdown",
   "metadata": {}
  },
  {
   "source": [
    "### Read multiple tracking files from a single directory "
   ],
   "cell_type": "markdown",
   "metadata": {}
  },
  {
   "source": [
    "With the new module function ``runpandas.read_dir`` , you can reall all the files in a directory and iterate over them. It uses ``runpandas.read_file``  and returns a generator. It is important to notice that\n",
    "``read_dir`` expects all the files to be of a supported file format in the directory.\n"
   ],
   "cell_type": "markdown",
   "metadata": {}
  },
  {
   "source": [
    "```python\n",
    "from pathlib import Path\n",
    "\n",
    "import runpandas\n",
    "\n",
    "directory = Path(\"path/to/some/dir/\")\n",
    "\n",
    "for activity in runpandas.read_dir(directory):\n",
    "    # Do things with the activities\n",
    "```"
   ],
   "cell_type": "markdown",
   "metadata": {}
  },
  {
   "source": [
    "### Support to fetch activity stream data from Strava\n"
   ],
   "cell_type": "markdown",
   "metadata": {}
  },
  {
   "source": [
    "We addded the support to fetch a single activity stream from the social sports app Strava. The function ``runpandas.read_strava`` assumes that you have an API access token and already performed an API authentication. You can use a support script available at our repository ``strava_auth_handler.py`` that we developed using the library ``stravalib``.  The basic usage is simple and it saves the API token into a file.\n",
    "\n",
    "It is required to have a client_id and and a client_secret, for that you must have a developer account at strava and create an application. See further at strava:  (https://developers.strava.com/)\n",
    "\n",
    "Here a simple example about how to call :\n"
   ],
   "cell_type": "markdown",
   "metadata": {}
  },
  {
   "source": [
    "```console\n",
    "$ python scripts/strava_auth_handler.py --client_id YOUCLIENTID --client_secret YOURCLIENTSECRET\n",
    "$ more access_token.json\n",
    "\n",
    "\"{\\\"access_token\\\": \\\"YOURACCESSTOKEN\\\", \\\"refresh_token\\\": \\\"YOURREFRESHTOKEN\\\", \\\"expires_at\\\": 1607634877}\"\n",
    "``` "
   ],
   "cell_type": "markdown",
   "metadata": {}
  },
  {
   "source": [
    "``read_strava()`` returns a ``runpandas.Activity`` with column ``runpandas.MeasureSeries`` matching Runpandas nomenclature."
   ],
   "cell_type": "markdown",
   "metadata": {}
  },
  {
   "cell_type": "code",
   "execution_count": 18,
   "metadata": {},
   "outputs": [],
   "source": [
    "#Disable INFO Logging for a better visualization\n",
    "import logging\n",
    "logging.getLogger().setLevel(logging.CRITICAL)"
   ]
  },
  {
   "source": [
    "import runpandas\n",
    "\n",
    "activity = runpandas.read_strava(activity_id=4437021783, access_token=\"c1370af8341f5c5696988d54a1560130737f5954\")\n",
    "\n",
    "activity.head(5)"
   ],
   "cell_type": "code",
   "metadata": {},
   "execution_count": 17,
   "outputs": [
    {
     "output_type": "stream",
     "name": "stdout",
     "text": [
      "2020-12-06 06:36:27\n"
     ]
    },
    {
     "output_type": "execute_result",
     "data": {
      "text/plain": [
       "          moving  velocity_smooth  grade_smooth  alt  cad  dist   hr  \\\n",
       "time                                                                   \n",
       "00:00:00   False              0.0           1.1  6.4   79   0.0  111   \n",
       "00:00:04    True              1.4           1.2  6.4   79   5.6  111   \n",
       "00:00:06    True              1.6           0.9  6.5   79   9.5  111   \n",
       "00:00:09    True              2.3           1.2  6.6   79  16.9  111   \n",
       "00:00:12    True              2.3           1.1  6.6   79  23.2  111   \n",
       "\n",
       "                lon       lat  \n",
       "time                           \n",
       "00:00:00 -34.847439 -8.016994  \n",
       "00:00:04 -34.847324 -8.016978  \n",
       "00:00:06 -34.847252 -8.016969  \n",
       "00:00:09 -34.847221 -8.016894  \n",
       "00:00:12 -34.847176 -8.016860  "
      ],
      "text/html": "<div>\n<style scoped>\n    .dataframe tbody tr th:only-of-type {\n        vertical-align: middle;\n    }\n\n    .dataframe tbody tr th {\n        vertical-align: top;\n    }\n\n    .dataframe thead th {\n        text-align: right;\n    }\n</style>\n<table border=\"1\" class=\"dataframe\">\n  <thead>\n    <tr style=\"text-align: right;\">\n      <th></th>\n      <th>moving</th>\n      <th>velocity_smooth</th>\n      <th>grade_smooth</th>\n      <th>alt</th>\n      <th>cad</th>\n      <th>dist</th>\n      <th>hr</th>\n      <th>lon</th>\n      <th>lat</th>\n    </tr>\n    <tr>\n      <th>time</th>\n      <th></th>\n      <th></th>\n      <th></th>\n      <th></th>\n      <th></th>\n      <th></th>\n      <th></th>\n      <th></th>\n      <th></th>\n    </tr>\n  </thead>\n  <tbody>\n    <tr>\n      <th>00:00:00</th>\n      <td>False</td>\n      <td>0.0</td>\n      <td>1.1</td>\n      <td>6.4</td>\n      <td>79</td>\n      <td>0.0</td>\n      <td>111</td>\n      <td>-34.847439</td>\n      <td>-8.016994</td>\n    </tr>\n    <tr>\n      <th>00:00:04</th>\n      <td>True</td>\n      <td>1.4</td>\n      <td>1.2</td>\n      <td>6.4</td>\n      <td>79</td>\n      <td>5.6</td>\n      <td>111</td>\n      <td>-34.847324</td>\n      <td>-8.016978</td>\n    </tr>\n    <tr>\n      <th>00:00:06</th>\n      <td>True</td>\n      <td>1.6</td>\n      <td>0.9</td>\n      <td>6.5</td>\n      <td>79</td>\n      <td>9.5</td>\n      <td>111</td>\n      <td>-34.847252</td>\n      <td>-8.016969</td>\n    </tr>\n    <tr>\n      <th>00:00:09</th>\n      <td>True</td>\n      <td>2.3</td>\n      <td>1.2</td>\n      <td>6.6</td>\n      <td>79</td>\n      <td>16.9</td>\n      <td>111</td>\n      <td>-34.847221</td>\n      <td>-8.016894</td>\n    </tr>\n    <tr>\n      <th>00:00:12</th>\n      <td>True</td>\n      <td>2.3</td>\n      <td>1.1</td>\n      <td>6.6</td>\n      <td>79</td>\n      <td>23.2</td>\n      <td>111</td>\n      <td>-34.847176</td>\n      <td>-8.016860</td>\n    </tr>\n  </tbody>\n</table>\n</div>"
     },
     "metadata": {},
     "execution_count": 17
    }
   ]
  },
  {
   "source": [
    "### Thanks"
   ],
   "cell_type": "markdown",
   "metadata": {}
  },
  {
   "source": [
    "We are constantly developing Runpandas improving its existing features and adding new ones. We will be glad to hear from you about what you like or don’t like, what features you may wish to see in upcoming releases. Please feel free to contact us.\n"
   ],
   "cell_type": "markdown",
   "metadata": {}
  }
 ]
}