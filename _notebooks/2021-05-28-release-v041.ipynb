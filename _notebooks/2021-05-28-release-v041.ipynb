{
 "metadata": {
  "language_info": {
   "codemirror_mode": {
    "name": "ipython",
    "version": 3
   },
   "file_extension": ".py",
   "mimetype": "text/x-python",
   "name": "python",
   "nbconvert_exporter": "python",
   "pygments_lexer": "ipython3",
   "version": "3.8.3"
  },
  "orig_nbformat": 2,
  "kernelspec": {
   "name": "python383jvsc74a57bd0449a6a5da217c2d6cffa80a6a7a4724fa6726b57ec2f120da10e91a7f29f4eb0",
   "display_name": "Python 3.8.3 64-bit ('runpandas_dev': conda)"
  }
 },
 "nbformat": 4,
 "nbformat_minor": 2,
 "cells": [
  {
   "source": [
    "\n",
    "# Release 0.4.1 powered by heart zone metrics!\n",
    "> New release of runpandas comes with heart training zone metrics and minor changes to the CI build actions.\n",
    "\n",
    "- toc: false \n",
    "- badges: true\n",
    "- comments: true\n",
    "- author: Marcel Caraciolo\n",
    "- categories: [general, jupyter, releases]\n",
    "- image: images/trainingpeaks.png"
   ],
   "cell_type": "markdown",
   "metadata": {}
  },
  {
   "source": [
    "> This  current state of the project is `early beta`, which means that features can be added, removed or changed in backwards incompatible ways."
   ],
   "cell_type": "markdown",
   "metadata": {}
  },
  {
   "source": [
    "We published this minor release with some new metrics and changes to better improve our build process. In this release of [RunPandas 0.4.1](https://pypi.org/project/runpandas/), we include:"
   ],
   "cell_type": "markdown",
   "metadata": {}
  },
  {
   "source": [
    "- The Activity now provides some special methods in `runpandas.acessors` that computes the heart training zones for each record and the time spent for each training zone.\n",
    "- We published for the first time our package to the [Anaconda](https://anaconda.org/marcelcaraciolo/runpandas) scientific package repository.\n",
    "- Finally, we have changed our CI build implementation from Travis CI to Github actions. Unfortunately, the Travis CI became highly limited to open-source projects, which resulted into several  builds to not run anymore due to lack of credits."
   ],
   "cell_type": "markdown",
   "metadata": {}
  },
  {
   "source": [
    "## What is Runpandas?\n"
   ],
   "cell_type": "markdown",
   "metadata": {}
  },
  {
   "source": [
    "Runpandas is a python package based on ``pandas`` data analysis library, that makes it easier to perform data analysis from your running sessions stored at tracking files from cellphones and GPS smartwatches or social sports applications such as Strava, MapMyRUn, NikeRunClub, etc. It is designed to enable reading, transforming and running metrics analytics from several tracking files and apps.\n"
   ],
   "cell_type": "markdown",
   "metadata": {}
  },
  {
   "source": [
    "## Main Features\n"
   ],
   "cell_type": "markdown",
   "metadata": {}
  },
  {
   "source": [
    "### Support to heart training zones metrics"
   ],
   "cell_type": "markdown",
   "metadata": {}
  },
  {
   "source": [
    "Now ``runpandas`` comes with useful methods to data runners who desires to explore their heart rate data and check the heart rate range variation and the respective training zones  or the time ellapsed through each training zone during the workout."
   ],
   "cell_type": "markdown",
   "metadata": {}
  },
  {
   "cell_type": "code",
   "execution_count": 2,
   "metadata": {},
   "outputs": [],
   "source": [
    "#Disable Warnings for a better visualization\n",
    "import warnings\n",
    "warnings.filterwarnings('ignore')"
   ]
  },
  {
   "cell_type": "code",
   "execution_count": 3,
   "metadata": {},
   "outputs": [
    {
     "output_type": "stream",
     "name": "stdout",
     "text": [
      "Start 0 days 00:00:00 End: 0 days 01:16:06\n-8.364486 -8.364462\n"
     ]
    }
   ],
   "source": [
    "import runpandas\n",
    "activity = runpandas.read_file('./data/11km.tcx')\n",
    "print('Start', activity.index[0],'End:', activity.index[-1])\n",
    "print(activity.iloc[0]['lat'], activity.iloc[-1]['lat'])"
   ]
  },
  {
   "source": [
    "First, let's perform a QC evaluation on the data, to check if there's any invalid or missing data required for the analysis. As you can see in the cell below, there are 5 records with heart rate data missing. We will replace all these with the first HR sensor data available."
   ],
   "cell_type": "markdown",
   "metadata": {}
  },
  {
   "source": [
    "import numpy as np\n",
    "\n",
    "group_hr = activity['hr'].isnull().sum()\n",
    "print(\"There are nan records: %d\" % group_hr)\n",
    "\n",
    "#There is 5 missing values in HR. Let's see the positions where they are placed in the frame.\n",
    "print(activity[activity['hr'].isnull()])\n",
    "\n",
    "#We will replace all NaN values with the first HR sensor data available\n",
    "activity['hr'].fillna(activity.iloc[5]['hr'], inplace=True)\n",
    "\n",
    "print('Total nan after fill:', activity['hr'].isnull().sum())\n"
   ],
   "cell_type": "code",
   "metadata": {},
   "execution_count": 4,
   "outputs": [
    {
     "output_type": "stream",
     "name": "stdout",
     "text": [
      "There are nan records: 5\n          run_cadence         alt       dist  hr        lon       lat  \\\ntime                                                                    \n00:00:00          NaN  668.801819   0.000000 NaN -36.577568 -8.364486   \n00:00:07          NaN  668.714722   5.749573 NaN -36.577465 -8.364492   \n00:00:10          NaN  668.680603  11.615299 NaN -36.577423 -8.364470   \n00:00:12         83.0  668.639099  17.306795 NaN -36.577366 -8.364449   \n00:00:15         82.0  668.600464  22.672394 NaN -36.577312 -8.364429   \n\n             speed  \ntime                \n00:00:00  0.000000  \n00:00:07  0.000000  \n00:00:10  0.000000  \n00:00:12  2.262762  \n00:00:15  2.317986  \nTotal nan after fill: 0\n"
     ]
    }
   ]
  },
  {
   "source": [
    "Let's see how to add a column with the heart rate zone label to the data frame.  For this task, we will use the special method `runpandas.compute.heart_zone` . The parameters are the bins argument which contains the left and right bounds for each training zone and the labels argument corresponding to the zone labels\n",
    "\n"
   ],
   "cell_type": "markdown",
   "metadata": {}
  },
  {
   "cell_type": "code",
   "execution_count": 7,
   "metadata": {},
   "outputs": [
    {
     "output_type": "execute_result",
     "data": {
      "text/plain": [
       "time\n",
       "01:15:54    Z4\n",
       "01:15:56    Z4\n",
       "01:16:00    Z4\n",
       "01:16:02    Z4\n",
       "01:16:06    Z4\n",
       "Name: heartrate_zone, dtype: category\n",
       "Categories (6, object): [Rest < Z1 < Z2 < Z3 < Z4 < Z5]"
      ]
     },
     "metadata": {},
     "execution_count": 7
    }
   ],
   "source": [
    "activity['heartrate_zone'] = activity.compute.heart_zone(\n",
    "                        labels=[\"Rest\", \"Z1\", \"Z2\", \"Z3\", \"Z4\", \"Z5\"],\n",
    "                    bins=[0, 92, 110, 129, 147, 166, 184])\n",
    "activity[\"heartrate_zone\"].tail()"
   ]
  },
  {
   "source": [
    "To calculate the time in zone, there is also a special method `runpandas.compute.time_in_zone` which computes the time spent for each training zone.\n",
    "\n"
   ],
   "cell_type": "markdown",
   "metadata": {}
  },
  {
   "cell_type": "code",
   "execution_count": 8,
   "metadata": {},
   "outputs": [
    {
     "output_type": "execute_result",
     "data": {
      "text/plain": [
       "hr_zone\n",
       "Rest   00:00:00\n",
       "Z1     00:04:10\n",
       "Z2     00:07:05\n",
       "Z3     00:31:45\n",
       "Z4     00:33:06\n",
       "Z5     00:00:00\n",
       "Name: time_diff, dtype: timedelta64[ns]"
      ]
     },
     "metadata": {},
     "execution_count": 8
    }
   ],
   "source": [
    "time_in_zone = activity.compute.time_in_zone(\n",
    "                        labels=[\"Rest\", \"Z1\", \"Z2\", \"Z3\", \"Z4\", \"Z5\"],\n",
    "                    bins=[0, 92, 110, 129, 147, 166, 184])\n",
    "\n",
    "time_in_zone"
   ]
  },
  {
   "source": [
    "### Anaconda Package"
   ],
   "cell_type": "markdown",
   "metadata": {}
  },
  {
   "source": [
    "We decided to publish our runpandas packages at one of the most popular pythonic scientific package repositories : [Anaconda](https://www.anaconda.com/) . There are more millions data science packages published focusing on scientific areas.  In this release we published at the owner's package repository (https://anaconda.org/marcelcaraciolo/runpandas), but the goal is to publish it at the conda-forge main repository.  We will work on this task to submit our package as a release candidate."
   ],
   "cell_type": "markdown",
   "metadata": {}
  },
  {
   "source": [
    "### Changing the Build script to suppor the Github Actions"
   ],
   "cell_type": "markdown",
   "metadata": {}
  },
  {
   "source": [
    "Since last year the CI/CD provider TravisCI started to put several limitations to their free tier quotes , specially to open-source projects with had a specific ammount of time-credits for builds. We understood that for them it was a big decision , because building open source products and maintain them is extremely difficult.  Since runpandas is a fully open source package, I decided to find other CI provider.\n",
    "\n",
    "Github Actions came to the rescue,  since it remains free for any open-source project hosted in Github. Finally, I moved in this release all the build scripts to the Github actions. "
   ],
   "cell_type": "markdown",
   "metadata": {}
  },
  {
   "source": [
    "<img src=\"./images/github-actions.png\">\n"
   ],
   "cell_type": "markdown",
   "metadata": {}
  },
  {
   "source": [
    "For further information about the Github Actions and see how it works, please check this [article](https://github.com/features/actions) and this [post](https://www.section.io/engineering-education/setting-up-cicd-for-python-packages-using-github-actions/)."
   ],
   "cell_type": "markdown",
   "metadata": {}
  },
  {
   "source": [
    "## What is coming next ?"
   ],
   "cell_type": "markdown",
   "metadata": {}
  },
  {
   "source": [
    "The next releases will come with power metrics and support to the workout summary visualization. So stay tunned!"
   ],
   "cell_type": "markdown",
   "metadata": {}
  },
  {
   "source": [
    "## Thanks"
   ],
   "cell_type": "markdown",
   "metadata": {}
  },
  {
   "source": [
    "We are constantly developing Runpandas improving its existing features and adding new ones. We will be glad to hear from you about what you like or don’t like, what features you may wish to see in upcoming releases. Please feel free to contact us."
   ],
   "cell_type": "markdown",
   "metadata": {}
  }
 ]
}