{
 "cells": [
  {
   "cell_type": "markdown",
   "metadata": {},
   "source": [
    "# Release 0.6.0 Major feature now with Running race event results analytics!\n",
    "> New release of runpandas comes with support of handling race event results.\n",
    "\n",
    "- toc: false\n",
    "- badges: true\n",
    "- comments: true\n",
    "- author: Marcel Caraciolo\n",
    "- categories: [general, jupyter, releases]\n",
    "- image: images/marathon.png"
   ]
  },
  {
   "cell_type": "markdown",
   "metadata": {},
   "source": [
    "> This  current state of the project is `early beta`, which means that features can be added, removed or changed in backwards incompatible ways."
   ]
  },
  {
   "cell_type": "markdown",
   "metadata": {},
   "source": [
    "We published this major release with a great addition to our package, the support to race results analytics!  In this release of [RunPandas 0.6.0](https://pypi.org/project/runpandas/), we include:"
   ]
  },
  {
   "cell_type": "markdown",
   "metadata": {},
   "source": [
    "-  Support to handling race event results pre-formatted files.\n",
    "-  Access to a first open-data repository that it will include many marathon and race results available for runpandas.\n",
    "-  Some race statistics such as winner details, split paces and race athlete demographics."
   ]
  },
  {
   "cell_type": "markdown",
   "metadata": {},
   "source": [
    "## What is Runpandas?\n"
   ]
  },
  {
   "cell_type": "markdown",
   "metadata": {},
   "source": [
    "Runpandas is a python package based on ``pandas`` data analysis library, that makes it easier to perform data analysis from your running sessions stored at tracking files from cellphones and GPS smartwatches or social sports applications such as Strava, MapMyRUn, NikeRunClub, etc. It is designed to enable reading, transforming and running metrics analytics from several tracking files and apps. Since the release 0.6.0 it comes with the support of handling race event results, so we can analyze from race split times, finish times, demographics, etc. The goal is to support several many races results available to anyone interested in running race results analytics.\n"
   ]
  },
  {
   "cell_type": "markdown",
   "metadata": {},
   "source": [
    "## Main Features\n"
   ]
  },
  {
   "cell_type": "markdown",
   "metadata": {},
   "source": [
    "Runpandas is enabled now to handle and process race result events by reading a custom-prepared event result file. We know that fetching and preparing the datasets is not a trivial task. We will push and prepare some public results available from big races around the world to our [data repository],(https://github.com/corriporai/runpandas-data), so anyone can analyse with less effort his favorite race."
   ]
  },
  {
   "cell_type": "markdown",
   "metadata": {},
   "source": [
    "<img src=\"./images/race-event.png\">\n",
    "\n",
    "One of the goals is to provide access to many race event results as possible, so anyone might access it and analyse it! Feel free to explore it and help us with race event results."
   ]
  },
  {
   "cell_type": "markdown",
   "metadata": {},
   "source": [
    "In this tutorial, we will explore the results of the [Major marathons](https://www.worldmarathonmajors.com/), the *2022 Berlin Marathon* and analyze the performance of the WR record from this edition's winner Eliud Kipchoge."
   ]
  },
  {
   "cell_type": "markdown",
   "metadata": {},
   "source": [
    "### Race Overview"
   ]
  },
  {
   "cell_type": "markdown",
   "metadata": {},
   "source": [
    "More than 30,000 people took the starting line for the 2022 Berlin Marathon, on 25 September 2022. An Elite Platinum Label Marathon, and one of the World marathon Majors. The race is quite famous for its fast and flat course, making it perfect for a record-setting day.\n",
    "\n",
    "But this particular race also came with special flavours, with the participation of the top runners Eliud Kipchoge in the men's pro race and American record holder Keira D'Amato in the women's race. Kipchoge shattered his own world record with a time of 2:01:09 to win the Berlin marathon. It's the second time the Kenyan runner has set the official men's world record at the race in the German capital. Kipchoge's previous best in an official 42.2km race was 2:01:39 set on the same course in 2018.  His best non-official marathon's record is still the legendary two-hour mark during the 2019 Ineos 1:59 Challenge, where he set the quickest time in history when he ended the race in 1:59:40.\n",
    "\n",
    "Ethiopia's Tigist Assefa won the women's race on Sunday in a course record of 2:15:37, the third fastest time in history."
   ]
  },
  {
   "cell_type": "markdown",
   "metadata": {},
   "source": [
    "<img src=\"./images/eliud_finish.png\">\n",
    "\n",
    "\n",
    "(Picture by GETTY IMAGES (GETTY IMAGES (Photographer) - [None] (GETTY IMAGES (GETTY IMAGES (Photographer) - [None] (Photographer) - [None])\n"
   ]
  },
  {
   "cell_type": "markdown",
   "metadata": {},
   "source": [
    "### How does it work ?"
   ]
  },
  {
   "cell_type": "markdown",
   "metadata": {},
   "source": [
    "First, let's load the Berlin Marathon data by using the runpandas method ``runpandas.get_events``. This function provides a way of accessing the race data and visualize the results from several running results available at our race datasets repository. Given the year and the marathon identifier you can filter any marathon datasets that you want analyze. The result will be a list of ``runpandas.EventData`` instances with race result and its metadata. Let's look for Berlin Marathon results."
   ]
  },
  {
   "cell_type": "code",
   "execution_count": 1,
   "metadata": {},
   "outputs": [],
   "source": [
    "%load_ext autoreload\n",
    "%autoreload 2\n",
    "import warnings\n",
    "warnings.filterwarnings('ignore')\n",
    "\n",
    "import runpandas\n",
    "import os\n",
    "import pandas as pd\n",
    "pd.set_option('display.max_rows', 500)"
   ]
  },
  {
   "cell_type": "code",
   "execution_count": 5,
   "metadata": {},
   "outputs": [
    {
     "data": {
      "text/plain": [
       "[<Event: name=Berlin Marathon Results from 2022., country=DE, edition=2022>]"
      ]
     },
     "execution_count": 5,
     "metadata": {},
     "output_type": "execute_result"
    }
   ],
   "source": [
    "results = runpandas.get_events('Berlin')\n",
    "results"
   ]
  },
  {
   "cell_type": "markdown",
   "metadata": {},
   "source": [
    "The result comes with the Berlin Marathon Result from 2022. Let's take a look inside the race event, which comes with a handful method to describe its attributes and a special method to load the race result data into a `runpandas.datasets.schema.RaceData` instance."
   ]
  },
  {
   "cell_type": "code",
   "execution_count": 7,
   "metadata": {},
   "outputs": [
    {
     "name": "stdout",
     "output_type": "stream",
     "text": [
      "Event type RunTypeEnum.MARATHON\n",
      "Country DE\n",
      "Year 2022\n",
      "Name Berlin Marathon Results from 2022.\n",
      "\n",
      "Attributes [<RaceAttributeEnum.position: 'position'>, <RaceAttributeEnum.position_gender: 'position_gender'>, <RaceAttributeEnum.country: 'country'>, <RaceAttributeEnum.gender: 'gender'>, <RaceAttributeEnum.division: 'division'>, <RaceAttributeEnum.bib: 'bib'>, <RaceAttributeEnum.firstname: 'firstname'>, <RaceAttributeEnum.lastname: 'lastname'>, <RaceAttributeEnum.club: 'club'>, <RaceAttributeEnum.starttime: 'starttime'>, <RaceAttributeEnum.start_raw_time: 'start_raw_time'>, <RaceAttributeEnum.time_5K: '5K_time'>, <RaceAttributeEnum.time_10K: '10K_time'>, <RaceAttributeEnum.time_15K: '15K_time'>, <RaceAttributeEnum.time_20K: '20K_time'>, <RaceAttributeEnum.half_time: 'half_time'>, <RaceAttributeEnum.time_25K: '25K_time'>, <RaceAttributeEnum.time_30K: '30K_time'>, <RaceAttributeEnum.time_35K: '35K_time'>, <RaceAttributeEnum.time_40K: '40K_time'>, <RaceAttributeEnum.category: 'category'>, <RaceAttributeEnum.grosstime: 'grosstime'>, <RaceAttributeEnum.nettime: 'nettime'>]\n"
     ]
    }
   ],
   "source": [
    "berlin_result = results[0]\n",
    "print('Event type', berlin_result.run_type)\n",
    "print('Country', berlin_result.country)\n",
    "print('Year', berlin_result.edition)\n",
    "print('Name', berlin_result.summary)\n",
    "print('Attributes', berlin_result.included_data)"
   ]
  },
  {
   "cell_type": "markdown",
   "metadata": {},
   "source": [
    "Now that we confirmed that we requested the corresponding marathon dataset. We will load it into a DataFrame so we can further explore it."
   ]
  },
  {
   "cell_type": "code",
   "execution_count": 8,
   "metadata": {},
   "outputs": [
    {
     "data": {
      "text/html": [
       "<div>\n",
       "<style scoped>\n",
       "    .dataframe tbody tr th:only-of-type {\n",
       "        vertical-align: middle;\n",
       "    }\n",
       "\n",
       "    .dataframe tbody tr th {\n",
       "        vertical-align: top;\n",
       "    }\n",
       "\n",
       "    .dataframe thead th {\n",
       "        text-align: right;\n",
       "    }\n",
       "</style>\n",
       "<table border=\"1\" class=\"dataframe\">\n",
       "  <thead>\n",
       "    <tr style=\"text-align: right;\">\n",
       "      <th></th>\n",
       "      <th>position</th>\n",
       "      <th>position_gender</th>\n",
       "      <th>country</th>\n",
       "      <th>sex</th>\n",
       "      <th>division</th>\n",
       "      <th>bib</th>\n",
       "      <th>firstname</th>\n",
       "      <th>lastname</th>\n",
       "      <th>club</th>\n",
       "      <th>starttime</th>\n",
       "      <th>...</th>\n",
       "      <th>10k</th>\n",
       "      <th>15k</th>\n",
       "      <th>20k</th>\n",
       "      <th>25k</th>\n",
       "      <th>30k</th>\n",
       "      <th>35k</th>\n",
       "      <th>40k</th>\n",
       "      <th>grosstime</th>\n",
       "      <th>nettime</th>\n",
       "      <th>category</th>\n",
       "    </tr>\n",
       "  </thead>\n",
       "  <tbody>\n",
       "    <tr>\n",
       "      <th>0</th>\n",
       "      <td>1</td>\n",
       "      <td>1</td>\n",
       "      <td>KEN</td>\n",
       "      <td>M</td>\n",
       "      <td>1</td>\n",
       "      <td>1</td>\n",
       "      <td>Eliud</td>\n",
       "      <td>Kipchoge</td>\n",
       "      <td>–</td>\n",
       "      <td>09:15:00</td>\n",
       "      <td>...</td>\n",
       "      <td>0 days 00:28:23</td>\n",
       "      <td>0 days 00:42:33</td>\n",
       "      <td>0 days 00:56:45</td>\n",
       "      <td>0 days 01:11:08</td>\n",
       "      <td>0 days 01:25:40</td>\n",
       "      <td>0 days 01:40:10</td>\n",
       "      <td>0 days 01:54:53</td>\n",
       "      <td>0 days 02:01:09</td>\n",
       "      <td>0 days 02:01:09</td>\n",
       "      <td>M35</td>\n",
       "    </tr>\n",
       "    <tr>\n",
       "      <th>1</th>\n",
       "      <td>2</td>\n",
       "      <td>2</td>\n",
       "      <td>KEN</td>\n",
       "      <td>M</td>\n",
       "      <td>1</td>\n",
       "      <td>5</td>\n",
       "      <td>Mark</td>\n",
       "      <td>Korir</td>\n",
       "      <td>–</td>\n",
       "      <td>09:15:00</td>\n",
       "      <td>...</td>\n",
       "      <td>0 days 00:28:56</td>\n",
       "      <td>0 days 00:43:35</td>\n",
       "      <td>0 days 00:58:14</td>\n",
       "      <td>0 days 01:13:07</td>\n",
       "      <td>0 days 01:28:06</td>\n",
       "      <td>0 days 01:43:25</td>\n",
       "      <td>0 days 01:59:05</td>\n",
       "      <td>0 days 02:05:58</td>\n",
       "      <td>0 days 02:05:58</td>\n",
       "      <td>M30</td>\n",
       "    </tr>\n",
       "    <tr>\n",
       "      <th>2</th>\n",
       "      <td>3</td>\n",
       "      <td>3</td>\n",
       "      <td>ETH</td>\n",
       "      <td>M</td>\n",
       "      <td>1</td>\n",
       "      <td>8</td>\n",
       "      <td>Tadu</td>\n",
       "      <td>Abate</td>\n",
       "      <td>–</td>\n",
       "      <td>09:15:00</td>\n",
       "      <td>...</td>\n",
       "      <td>0 days 00:29:46</td>\n",
       "      <td>0 days 00:44:40</td>\n",
       "      <td>0 days 00:59:40</td>\n",
       "      <td>0 days 01:14:44</td>\n",
       "      <td>0 days 01:30:01</td>\n",
       "      <td>0 days 01:44:55</td>\n",
       "      <td>0 days 02:00:03</td>\n",
       "      <td>0 days 02:06:28</td>\n",
       "      <td>0 days 02:06:28</td>\n",
       "      <td>MH</td>\n",
       "    </tr>\n",
       "    <tr>\n",
       "      <th>3</th>\n",
       "      <td>4</td>\n",
       "      <td>4</td>\n",
       "      <td>ETH</td>\n",
       "      <td>M</td>\n",
       "      <td>2</td>\n",
       "      <td>26</td>\n",
       "      <td>Andamlak</td>\n",
       "      <td>Belihu</td>\n",
       "      <td>–</td>\n",
       "      <td>09:15:00</td>\n",
       "      <td>...</td>\n",
       "      <td>0 days 00:28:23</td>\n",
       "      <td>0 days 00:42:33</td>\n",
       "      <td>0 days 00:56:45</td>\n",
       "      <td>0 days 01:11:09</td>\n",
       "      <td>0 days 01:26:11</td>\n",
       "      <td>0 days 01:42:14</td>\n",
       "      <td>0 days 01:59:14</td>\n",
       "      <td>0 days 02:06:40</td>\n",
       "      <td>0 days 02:06:40</td>\n",
       "      <td>MH</td>\n",
       "    </tr>\n",
       "    <tr>\n",
       "      <th>4</th>\n",
       "      <td>5</td>\n",
       "      <td>5</td>\n",
       "      <td>KEN</td>\n",
       "      <td>M</td>\n",
       "      <td>3</td>\n",
       "      <td>25</td>\n",
       "      <td>Abel</td>\n",
       "      <td>Kipchumba</td>\n",
       "      <td>–</td>\n",
       "      <td>09:15:00</td>\n",
       "      <td>...</td>\n",
       "      <td>0 days 00:28:55</td>\n",
       "      <td>0 days 00:43:35</td>\n",
       "      <td>0 days 00:58:14</td>\n",
       "      <td>0 days 01:13:07</td>\n",
       "      <td>0 days 01:28:03</td>\n",
       "      <td>0 days 01:43:08</td>\n",
       "      <td>0 days 01:59:14</td>\n",
       "      <td>0 days 02:06:49</td>\n",
       "      <td>0 days 02:06:49</td>\n",
       "      <td>MH</td>\n",
       "    </tr>\n",
       "    <tr>\n",
       "      <th>...</th>\n",
       "      <td>...</td>\n",
       "      <td>...</td>\n",
       "      <td>...</td>\n",
       "      <td>...</td>\n",
       "      <td>...</td>\n",
       "      <td>...</td>\n",
       "      <td>...</td>\n",
       "      <td>...</td>\n",
       "      <td>...</td>\n",
       "      <td>...</td>\n",
       "      <td>...</td>\n",
       "      <td>...</td>\n",
       "      <td>...</td>\n",
       "      <td>...</td>\n",
       "      <td>...</td>\n",
       "      <td>...</td>\n",
       "      <td>...</td>\n",
       "      <td>...</td>\n",
       "      <td>...</td>\n",
       "      <td>...</td>\n",
       "      <td>...</td>\n",
       "    </tr>\n",
       "    <tr>\n",
       "      <th>35566</th>\n",
       "      <td>DNF</td>\n",
       "      <td>–</td>\n",
       "      <td>USA</td>\n",
       "      <td>M</td>\n",
       "      <td>–</td>\n",
       "      <td>65079</td>\n",
       "      <td>michael</td>\n",
       "      <td>perkowski</td>\n",
       "      <td>–</td>\n",
       "      <td>–</td>\n",
       "      <td>...</td>\n",
       "      <td>NaT</td>\n",
       "      <td>NaT</td>\n",
       "      <td>NaT</td>\n",
       "      <td>NaT</td>\n",
       "      <td>NaT</td>\n",
       "      <td>NaT</td>\n",
       "      <td>NaT</td>\n",
       "      <td>NaT</td>\n",
       "      <td>NaT</td>\n",
       "      <td>M65</td>\n",
       "    </tr>\n",
       "    <tr>\n",
       "      <th>35567</th>\n",
       "      <td>DNF</td>\n",
       "      <td>–</td>\n",
       "      <td>USA</td>\n",
       "      <td>M</td>\n",
       "      <td>–</td>\n",
       "      <td>62027</td>\n",
       "      <td>Karl</td>\n",
       "      <td>Mann</td>\n",
       "      <td>–</td>\n",
       "      <td>–</td>\n",
       "      <td>...</td>\n",
       "      <td>NaT</td>\n",
       "      <td>NaT</td>\n",
       "      <td>NaT</td>\n",
       "      <td>NaT</td>\n",
       "      <td>NaT</td>\n",
       "      <td>NaT</td>\n",
       "      <td>NaT</td>\n",
       "      <td>NaT</td>\n",
       "      <td>NaT</td>\n",
       "      <td>M55</td>\n",
       "    </tr>\n",
       "    <tr>\n",
       "      <th>35568</th>\n",
       "      <td>DNF</td>\n",
       "      <td>–</td>\n",
       "      <td>THA</td>\n",
       "      <td>F</td>\n",
       "      <td>–</td>\n",
       "      <td>27196</td>\n",
       "      <td>oraluck</td>\n",
       "      <td>pichaiwongse</td>\n",
       "      <td>STATE to BERLIN 2022</td>\n",
       "      <td>–</td>\n",
       "      <td>...</td>\n",
       "      <td>NaT</td>\n",
       "      <td>NaT</td>\n",
       "      <td>NaT</td>\n",
       "      <td>NaT</td>\n",
       "      <td>NaT</td>\n",
       "      <td>NaT</td>\n",
       "      <td>NaT</td>\n",
       "      <td>NaT</td>\n",
       "      <td>NaT</td>\n",
       "      <td>W55</td>\n",
       "    </tr>\n",
       "    <tr>\n",
       "      <th>35569</th>\n",
       "      <td>DNF</td>\n",
       "      <td>–</td>\n",
       "      <td>SUI</td>\n",
       "      <td>M</td>\n",
       "      <td>–</td>\n",
       "      <td>56544</td>\n",
       "      <td>Gerardo</td>\n",
       "      <td>GARCIA CALZADA</td>\n",
       "      <td>–</td>\n",
       "      <td>–</td>\n",
       "      <td>...</td>\n",
       "      <td>NaT</td>\n",
       "      <td>NaT</td>\n",
       "      <td>NaT</td>\n",
       "      <td>NaT</td>\n",
       "      <td>NaT</td>\n",
       "      <td>NaT</td>\n",
       "      <td>NaT</td>\n",
       "      <td>NaT</td>\n",
       "      <td>NaT</td>\n",
       "      <td>M50</td>\n",
       "    </tr>\n",
       "    <tr>\n",
       "      <th>35570</th>\n",
       "      <td>DNF</td>\n",
       "      <td>–</td>\n",
       "      <td>AUT</td>\n",
       "      <td>M</td>\n",
       "      <td>–</td>\n",
       "      <td>63348</td>\n",
       "      <td>Harald</td>\n",
       "      <td>Mori</td>\n",
       "      <td>Albatros</td>\n",
       "      <td>–</td>\n",
       "      <td>...</td>\n",
       "      <td>NaT</td>\n",
       "      <td>NaT</td>\n",
       "      <td>NaT</td>\n",
       "      <td>NaT</td>\n",
       "      <td>NaT</td>\n",
       "      <td>NaT</td>\n",
       "      <td>NaT</td>\n",
       "      <td>NaT</td>\n",
       "      <td>NaT</td>\n",
       "      <td>M60</td>\n",
       "    </tr>\n",
       "  </tbody>\n",
       "</table>\n",
       "<p>35571 rows × 23 columns</p>\n",
       "</div>"
      ],
      "text/plain": [
       "      position position_gender country sex division    bib firstname  \\\n",
       "0            1               1     KEN   M        1      1     Eliud   \n",
       "1            2               2     KEN   M        1      5      Mark   \n",
       "2            3               3     ETH   M        1      8      Tadu   \n",
       "3            4               4     ETH   M        2     26  Andamlak   \n",
       "4            5               5     KEN   M        3     25      Abel   \n",
       "...        ...             ...     ...  ..      ...    ...       ...   \n",
       "35566      DNF               –     USA   M        –  65079   michael   \n",
       "35567      DNF               –     USA   M        –  62027      Karl   \n",
       "35568      DNF               –     THA   F        –  27196   oraluck   \n",
       "35569      DNF               –     SUI   M        –  56544   Gerardo   \n",
       "35570      DNF               –     AUT   M        –  63348    Harald   \n",
       "\n",
       "             lastname                  club starttime  ...             10k  \\\n",
       "0            Kipchoge                     –  09:15:00  ... 0 days 00:28:23   \n",
       "1               Korir                     –  09:15:00  ... 0 days 00:28:56   \n",
       "2               Abate                     –  09:15:00  ... 0 days 00:29:46   \n",
       "3              Belihu                     –  09:15:00  ... 0 days 00:28:23   \n",
       "4           Kipchumba                     –  09:15:00  ... 0 days 00:28:55   \n",
       "...               ...                   ...       ...  ...             ...   \n",
       "35566       perkowski                     –         –  ...             NaT   \n",
       "35567            Mann                     –         –  ...             NaT   \n",
       "35568    pichaiwongse  STATE to BERLIN 2022         –  ...             NaT   \n",
       "35569  GARCIA CALZADA                     –         –  ...             NaT   \n",
       "35570            Mori              Albatros         –  ...             NaT   \n",
       "\n",
       "                  15k             20k             25k             30k  \\\n",
       "0     0 days 00:42:33 0 days 00:56:45 0 days 01:11:08 0 days 01:25:40   \n",
       "1     0 days 00:43:35 0 days 00:58:14 0 days 01:13:07 0 days 01:28:06   \n",
       "2     0 days 00:44:40 0 days 00:59:40 0 days 01:14:44 0 days 01:30:01   \n",
       "3     0 days 00:42:33 0 days 00:56:45 0 days 01:11:09 0 days 01:26:11   \n",
       "4     0 days 00:43:35 0 days 00:58:14 0 days 01:13:07 0 days 01:28:03   \n",
       "...               ...             ...             ...             ...   \n",
       "35566             NaT             NaT             NaT             NaT   \n",
       "35567             NaT             NaT             NaT             NaT   \n",
       "35568             NaT             NaT             NaT             NaT   \n",
       "35569             NaT             NaT             NaT             NaT   \n",
       "35570             NaT             NaT             NaT             NaT   \n",
       "\n",
       "                  35k             40k       grosstime         nettime category  \n",
       "0     0 days 01:40:10 0 days 01:54:53 0 days 02:01:09 0 days 02:01:09      M35  \n",
       "1     0 days 01:43:25 0 days 01:59:05 0 days 02:05:58 0 days 02:05:58      M30  \n",
       "2     0 days 01:44:55 0 days 02:00:03 0 days 02:06:28 0 days 02:06:28       MH  \n",
       "3     0 days 01:42:14 0 days 01:59:14 0 days 02:06:40 0 days 02:06:40       MH  \n",
       "4     0 days 01:43:08 0 days 01:59:14 0 days 02:06:49 0 days 02:06:49       MH  \n",
       "...               ...             ...             ...             ...      ...  \n",
       "35566             NaT             NaT             NaT             NaT      M65  \n",
       "35567             NaT             NaT             NaT             NaT      M55  \n",
       "35568             NaT             NaT             NaT             NaT      W55  \n",
       "35569             NaT             NaT             NaT             NaT      M50  \n",
       "35570             NaT             NaT             NaT             NaT      M60  \n",
       "\n",
       "[35571 rows x 23 columns]"
      ]
     },
     "execution_count": 8,
     "metadata": {},
     "output_type": "execute_result"
    }
   ],
   "source": [
    "#loading the race data into a RaceData Dataframe\n",
    "race_result = berlin_result.load()\n",
    "race_result"
   ]
  },
  {
   "cell_type": "markdown",
   "metadata": {},
   "source": [
    "Now you can get some insights about the Berlin Marathon 2022, by using its tailored methods for getting basic and quick insights. For example, the number of finishers, number of participants and the winner info."
   ]
  },
  {
   "cell_type": "code",
   "execution_count": 9,
   "metadata": {},
   "outputs": [
    {
     "name": "stdout",
     "output_type": "stream",
     "text": [
      "Total participants 35571\n",
      "Total finishers 34844\n",
      "Total Non-Finishers 727\n"
     ]
    }
   ],
   "source": [
    "print('Total participants', race_result.total_participants)\n",
    "print('Total finishers', race_result.total_finishers)\n",
    "print('Total Non-Finishers', race_result.total_nonfinishers)"
   ]
  },
  {
   "cell_type": "code",
   "execution_count": 10,
   "metadata": {},
   "outputs": [
    {
     "data": {
      "text/plain": [
       "position                         1\n",
       "position_gender                  1\n",
       "country                        KEN\n",
       "sex                              M\n",
       "division                         1\n",
       "bib                              1\n",
       "firstname                    Eliud\n",
       "lastname                  Kipchoge\n",
       "club                             –\n",
       "starttime                 09:15:00\n",
       "start_raw_time            09:15:00\n",
       "half               0 days 00:59:51\n",
       "5k                 0 days 00:14:14\n",
       "10k                0 days 00:28:23\n",
       "15k                0 days 00:42:33\n",
       "20k                0 days 00:56:45\n",
       "25k                0 days 01:11:08\n",
       "30k                0 days 01:25:40\n",
       "35k                0 days 01:40:10\n",
       "40k                0 days 01:54:53\n",
       "grosstime          0 days 02:01:09\n",
       "nettime            0 days 02:01:09\n",
       "category                       M35\n",
       "Name: 0, dtype: object"
      ]
     },
     "execution_count": 10,
     "metadata": {},
     "output_type": "execute_result"
    }
   ],
   "source": [
    "race_result.winner"
   ]
  },
  {
   "cell_type": "markdown",
   "metadata": {},
   "source": [
    "Eliud Kipchoge of Kenya won the 2022 Berlin Marathon in 2:01:09. Kipchoge’s victory was his fourth in Berlin and 17th overall in a career of 19 marathon starts.  And who was the women's race winner?\n"
   ]
  },
  {
   "cell_type": "code",
   "execution_count": 11,
   "metadata": {},
   "outputs": [
    {
     "data": {
      "text/html": [
       "<div>\n",
       "<style scoped>\n",
       "    .dataframe tbody tr th:only-of-type {\n",
       "        vertical-align: middle;\n",
       "    }\n",
       "\n",
       "    .dataframe tbody tr th {\n",
       "        vertical-align: top;\n",
       "    }\n",
       "\n",
       "    .dataframe thead th {\n",
       "        text-align: right;\n",
       "    }\n",
       "</style>\n",
       "<table border=\"1\" class=\"dataframe\">\n",
       "  <thead>\n",
       "    <tr style=\"text-align: right;\">\n",
       "      <th></th>\n",
       "      <th>32</th>\n",
       "    </tr>\n",
       "  </thead>\n",
       "  <tbody>\n",
       "    <tr>\n",
       "      <th>position</th>\n",
       "      <td>33</td>\n",
       "    </tr>\n",
       "    <tr>\n",
       "      <th>position_gender</th>\n",
       "      <td>1</td>\n",
       "    </tr>\n",
       "    <tr>\n",
       "      <th>country</th>\n",
       "      <td>ETH</td>\n",
       "    </tr>\n",
       "    <tr>\n",
       "      <th>sex</th>\n",
       "      <td>F</td>\n",
       "    </tr>\n",
       "    <tr>\n",
       "      <th>division</th>\n",
       "      <td>1</td>\n",
       "    </tr>\n",
       "    <tr>\n",
       "      <th>bib</th>\n",
       "      <td>F24</td>\n",
       "    </tr>\n",
       "    <tr>\n",
       "      <th>firstname</th>\n",
       "      <td>Tigist</td>\n",
       "    </tr>\n",
       "    <tr>\n",
       "      <th>lastname</th>\n",
       "      <td>Assefa</td>\n",
       "    </tr>\n",
       "    <tr>\n",
       "      <th>club</th>\n",
       "      <td>–</td>\n",
       "    </tr>\n",
       "    <tr>\n",
       "      <th>starttime</th>\n",
       "      <td>09:15:00</td>\n",
       "    </tr>\n",
       "    <tr>\n",
       "      <th>start_raw_time</th>\n",
       "      <td>09:15:00</td>\n",
       "    </tr>\n",
       "    <tr>\n",
       "      <th>half</th>\n",
       "      <td>0 days 01:08:13</td>\n",
       "    </tr>\n",
       "    <tr>\n",
       "      <th>5k</th>\n",
       "      <td>0 days 00:16:22</td>\n",
       "    </tr>\n",
       "    <tr>\n",
       "      <th>10k</th>\n",
       "      <td>0 days 00:32:36</td>\n",
       "    </tr>\n",
       "    <tr>\n",
       "      <th>15k</th>\n",
       "      <td>0 days 00:48:44</td>\n",
       "    </tr>\n",
       "    <tr>\n",
       "      <th>20k</th>\n",
       "      <td>0 days 01:04:43</td>\n",
       "    </tr>\n",
       "    <tr>\n",
       "      <th>25k</th>\n",
       "      <td>0 days 01:20:48</td>\n",
       "    </tr>\n",
       "    <tr>\n",
       "      <th>30k</th>\n",
       "      <td>0 days 01:36:41</td>\n",
       "    </tr>\n",
       "    <tr>\n",
       "      <th>35k</th>\n",
       "      <td>0 days 01:52:27</td>\n",
       "    </tr>\n",
       "    <tr>\n",
       "      <th>40k</th>\n",
       "      <td>0 days 02:08:42</td>\n",
       "    </tr>\n",
       "    <tr>\n",
       "      <th>grosstime</th>\n",
       "      <td>0 days 02:15:37</td>\n",
       "    </tr>\n",
       "    <tr>\n",
       "      <th>nettime</th>\n",
       "      <td>0 days 02:15:37</td>\n",
       "    </tr>\n",
       "    <tr>\n",
       "      <th>category</th>\n",
       "      <td>WH</td>\n",
       "    </tr>\n",
       "  </tbody>\n",
       "</table>\n",
       "</div>"
      ],
      "text/plain": [
       "                              32\n",
       "position                      33\n",
       "position_gender                1\n",
       "country                      ETH\n",
       "sex                            F\n",
       "division                       1\n",
       "bib                          F24\n",
       "firstname                 Tigist\n",
       "lastname                  Assefa\n",
       "club                           –\n",
       "starttime               09:15:00\n",
       "start_raw_time          09:15:00\n",
       "half             0 days 01:08:13\n",
       "5k               0 days 00:16:22\n",
       "10k              0 days 00:32:36\n",
       "15k              0 days 00:48:44\n",
       "20k              0 days 01:04:43\n",
       "25k              0 days 01:20:48\n",
       "30k              0 days 01:36:41\n",
       "35k              0 days 01:52:27\n",
       "40k              0 days 02:08:42\n",
       "grosstime        0 days 02:15:37\n",
       "nettime          0 days 02:15:37\n",
       "category                      WH"
      ]
     },
     "execution_count": 11,
     "metadata": {},
     "output_type": "execute_result"
    }
   ],
   "source": [
    "race_result[(race_result['position_gender'] == 1) & (race_result['sex'] == 'F')].T"
   ]
  },
  {
   "cell_type": "markdown",
   "metadata": {},
   "source": [
    "Tigist Assefa of Ethiopia won the women’s race in a stunning time of 2:15:37 to set a new course record in Berlin. "
   ]
  },
  {
   "cell_type": "markdown",
   "metadata": {},
   "source": [
    "Runpandas also provides a race's summary method for showing the compilation of some general insights such as finishers, partipants (by gender and overall)."
   ]
  },
  {
   "cell_type": "code",
   "execution_count": 12,
   "metadata": {},
   "outputs": [
    {
     "data": {
      "text/plain": [
       "Event name                    berlin marathon\n",
       "Event type                                42k\n",
       "Event country                              DE\n",
       "Event date                         25-09-2022\n",
       "Number of participants                  35571\n",
       "Number of finishers                     34844\n",
       "Number of non-finishers                   727\n",
       "Number of male finishers                23314\n",
       "Number of female finishers              11523\n",
       "Winner Nettime                0 days 02:01:09\n",
       "dtype: object"
      ]
     },
     "execution_count": 12,
     "metadata": {},
     "output_type": "execute_result"
    }
   ],
   "source": [
    "race_result.summary()"
   ]
  },
  {
   "cell_type": "markdown",
   "metadata": {},
   "source": [
    "### Analyzing Eliud Kipchoge results"
   ]
  },
  {
   "cell_type": "markdown",
   "metadata": {},
   "source": [
    "Runpandas for some race results come with the splits for the partial distances of the race. We can fetch for any runner the splits using the method `runpandas.acessors.splits.pick_athlete`. So, if we need to have direct access to all splits from a specific runner, we will use the splits acesssor.\n"
   ]
  },
  {
   "cell_type": "code",
   "execution_count": 18,
   "metadata": {},
   "outputs": [
    {
     "data": {
      "text/html": [
       "<div>\n",
       "<style scoped>\n",
       "    .dataframe tbody tr th:only-of-type {\n",
       "        vertical-align: middle;\n",
       "    }\n",
       "\n",
       "    .dataframe tbody tr th {\n",
       "        vertical-align: top;\n",
       "    }\n",
       "\n",
       "    .dataframe thead th {\n",
       "        text-align: right;\n",
       "    }\n",
       "</style>\n",
       "<table border=\"1\" class=\"dataframe\">\n",
       "  <thead>\n",
       "    <tr style=\"text-align: right;\">\n",
       "      <th></th>\n",
       "      <th>time</th>\n",
       "      <th>distance_meters</th>\n",
       "      <th>distance_miles</th>\n",
       "    </tr>\n",
       "    <tr>\n",
       "      <th>split</th>\n",
       "      <th></th>\n",
       "      <th></th>\n",
       "      <th></th>\n",
       "    </tr>\n",
       "  </thead>\n",
       "  <tbody>\n",
       "    <tr>\n",
       "      <th>0k</th>\n",
       "      <td>0 days 00:00:00</td>\n",
       "      <td>0</td>\n",
       "      <td>0.0000</td>\n",
       "    </tr>\n",
       "    <tr>\n",
       "      <th>5k</th>\n",
       "      <td>0 days 00:14:14</td>\n",
       "      <td>5000</td>\n",
       "      <td>3.1069</td>\n",
       "    </tr>\n",
       "    <tr>\n",
       "      <th>10k</th>\n",
       "      <td>0 days 00:28:23</td>\n",
       "      <td>10000</td>\n",
       "      <td>6.2137</td>\n",
       "    </tr>\n",
       "    <tr>\n",
       "      <th>15k</th>\n",
       "      <td>0 days 00:42:33</td>\n",
       "      <td>15000</td>\n",
       "      <td>9.3206</td>\n",
       "    </tr>\n",
       "    <tr>\n",
       "      <th>20k</th>\n",
       "      <td>0 days 00:56:45</td>\n",
       "      <td>20000</td>\n",
       "      <td>12.4274</td>\n",
       "    </tr>\n",
       "    <tr>\n",
       "      <th>half</th>\n",
       "      <td>0 days 00:59:51</td>\n",
       "      <td>21097</td>\n",
       "      <td>13.1091</td>\n",
       "    </tr>\n",
       "    <tr>\n",
       "      <th>25k</th>\n",
       "      <td>0 days 01:11:08</td>\n",
       "      <td>25000</td>\n",
       "      <td>15.5343</td>\n",
       "    </tr>\n",
       "    <tr>\n",
       "      <th>30k</th>\n",
       "      <td>0 days 01:25:40</td>\n",
       "      <td>30000</td>\n",
       "      <td>18.6411</td>\n",
       "    </tr>\n",
       "    <tr>\n",
       "      <th>35k</th>\n",
       "      <td>0 days 01:40:10</td>\n",
       "      <td>35000</td>\n",
       "      <td>21.7480</td>\n",
       "    </tr>\n",
       "    <tr>\n",
       "      <th>40k</th>\n",
       "      <td>0 days 01:54:53</td>\n",
       "      <td>40000</td>\n",
       "      <td>24.8548</td>\n",
       "    </tr>\n",
       "    <tr>\n",
       "      <th>nettime</th>\n",
       "      <td>0 days 02:01:09</td>\n",
       "      <td>42195</td>\n",
       "      <td>26.2187</td>\n",
       "    </tr>\n",
       "  </tbody>\n",
       "</table>\n",
       "</div>"
      ],
      "text/plain": [
       "                   time  distance_meters  distance_miles\n",
       "split                                                   \n",
       "0k      0 days 00:00:00                0          0.0000\n",
       "5k      0 days 00:14:14             5000          3.1069\n",
       "10k     0 days 00:28:23            10000          6.2137\n",
       "15k     0 days 00:42:33            15000          9.3206\n",
       "20k     0 days 00:56:45            20000         12.4274\n",
       "half    0 days 00:59:51            21097         13.1091\n",
       "25k     0 days 01:11:08            25000         15.5343\n",
       "30k     0 days 01:25:40            30000         18.6411\n",
       "35k     0 days 01:40:10            35000         21.7480\n",
       "40k     0 days 01:54:53            40000         24.8548\n",
       "nettime 0 days 02:01:09            42195         26.2187"
      ]
     },
     "execution_count": 18,
     "metadata": {},
     "output_type": "execute_result"
    }
   ],
   "source": [
    "race_result.splits.pick_athlete(identifier='1')\n"
   ]
  },
  {
   "cell_type": "markdown",
   "metadata": {},
   "source": [
    "With plotting libraries such as matplotlib you can analyze Eliud's splits timing data through a impressive visualization!\n",
    "\n"
   ]
  },
  {
   "cell_type": "code",
   "execution_count": 25,
   "metadata": {},
   "outputs": [],
   "source": [
    "eliud_kipchoge_splits = race_result.splits.pick_athlete(identifier='1')\n"
   ]
  },
  {
   "cell_type": "markdown",
   "metadata": {},
   "source": [
    "First, let's compute some support metrics to improve our analysis such as the overall mean pace and the pace per each segment i.e (5km, 10km, and so on)."
   ]
  },
  {
   "cell_type": "code",
   "execution_count": 30,
   "metadata": {},
   "outputs": [
    {
     "data": {
      "text/html": [
       "<div>\n",
       "<style scoped>\n",
       "    .dataframe tbody tr th:only-of-type {\n",
       "        vertical-align: middle;\n",
       "    }\n",
       "\n",
       "    .dataframe tbody tr th {\n",
       "        vertical-align: top;\n",
       "    }\n",
       "\n",
       "    .dataframe thead th {\n",
       "        text-align: right;\n",
       "    }\n",
       "</style>\n",
       "<table border=\"1\" class=\"dataframe\">\n",
       "  <thead>\n",
       "    <tr style=\"text-align: right;\">\n",
       "      <th></th>\n",
       "      <th>time</th>\n",
       "      <th>distance_meters</th>\n",
       "      <th>distance_miles</th>\n",
       "      <th>pace</th>\n",
       "      <th>time_split</th>\n",
       "      <th>mean_pace</th>\n",
       "    </tr>\n",
       "    <tr>\n",
       "      <th>split</th>\n",
       "      <th></th>\n",
       "      <th></th>\n",
       "      <th></th>\n",
       "      <th></th>\n",
       "      <th></th>\n",
       "      <th></th>\n",
       "    </tr>\n",
       "  </thead>\n",
       "  <tbody>\n",
       "    <tr>\n",
       "      <th>0k</th>\n",
       "      <td>0 days 00:00:00</td>\n",
       "      <td>0</td>\n",
       "      <td>0.0000</td>\n",
       "      <td>NaT</td>\n",
       "      <td>0 days 00:00:00</td>\n",
       "      <td>0 days 00:02:52.030804837</td>\n",
       "    </tr>\n",
       "    <tr>\n",
       "      <th>5k</th>\n",
       "      <td>0 days 00:14:14</td>\n",
       "      <td>5000</td>\n",
       "      <td>3.1069</td>\n",
       "      <td>0 days 00:02:50.800000</td>\n",
       "      <td>0 days 00:14:14</td>\n",
       "      <td>0 days 00:02:52.030804837</td>\n",
       "    </tr>\n",
       "    <tr>\n",
       "      <th>10k</th>\n",
       "      <td>0 days 00:28:23</td>\n",
       "      <td>10000</td>\n",
       "      <td>6.2137</td>\n",
       "      <td>0 days 00:02:49.800000</td>\n",
       "      <td>0 days 00:14:09</td>\n",
       "      <td>0 days 00:02:52.030804837</td>\n",
       "    </tr>\n",
       "    <tr>\n",
       "      <th>15k</th>\n",
       "      <td>0 days 00:42:33</td>\n",
       "      <td>15000</td>\n",
       "      <td>9.3206</td>\n",
       "      <td>0 days 00:02:50</td>\n",
       "      <td>0 days 00:14:10</td>\n",
       "      <td>0 days 00:02:52.030804837</td>\n",
       "    </tr>\n",
       "    <tr>\n",
       "      <th>20k</th>\n",
       "      <td>0 days 00:56:45</td>\n",
       "      <td>20000</td>\n",
       "      <td>12.4274</td>\n",
       "      <td>0 days 00:02:50.400000</td>\n",
       "      <td>0 days 00:14:12</td>\n",
       "      <td>0 days 00:02:52.030804837</td>\n",
       "    </tr>\n",
       "    <tr>\n",
       "      <th>half</th>\n",
       "      <td>0 days 00:59:51</td>\n",
       "      <td>21097</td>\n",
       "      <td>13.1091</td>\n",
       "      <td>0 days 00:02:49.553327256</td>\n",
       "      <td>0 days 00:03:06</td>\n",
       "      <td>0 days 00:02:52.030804837</td>\n",
       "    </tr>\n",
       "    <tr>\n",
       "      <th>25k</th>\n",
       "      <td>0 days 01:11:08</td>\n",
       "      <td>25000</td>\n",
       "      <td>15.5343</td>\n",
       "      <td>0 days 00:02:53.456315655</td>\n",
       "      <td>0 days 00:11:17</td>\n",
       "      <td>0 days 00:02:52.030804837</td>\n",
       "    </tr>\n",
       "    <tr>\n",
       "      <th>30k</th>\n",
       "      <td>0 days 01:25:40</td>\n",
       "      <td>30000</td>\n",
       "      <td>18.6411</td>\n",
       "      <td>0 days 00:02:54.400000</td>\n",
       "      <td>0 days 00:14:32</td>\n",
       "      <td>0 days 00:02:52.030804837</td>\n",
       "    </tr>\n",
       "    <tr>\n",
       "      <th>35k</th>\n",
       "      <td>0 days 01:40:10</td>\n",
       "      <td>35000</td>\n",
       "      <td>21.7480</td>\n",
       "      <td>0 days 00:02:54</td>\n",
       "      <td>0 days 00:14:30</td>\n",
       "      <td>0 days 00:02:52.030804837</td>\n",
       "    </tr>\n",
       "    <tr>\n",
       "      <th>40k</th>\n",
       "      <td>0 days 01:54:53</td>\n",
       "      <td>40000</td>\n",
       "      <td>24.8548</td>\n",
       "      <td>0 days 00:02:56.600000</td>\n",
       "      <td>0 days 00:14:43</td>\n",
       "      <td>0 days 00:02:52.030804837</td>\n",
       "    </tr>\n",
       "    <tr>\n",
       "      <th>nettime</th>\n",
       "      <td>0 days 02:01:09</td>\n",
       "      <td>42195</td>\n",
       "      <td>26.2187</td>\n",
       "      <td>0 days 00:02:51.298405467</td>\n",
       "      <td>0 days 00:06:16</td>\n",
       "      <td>0 days 00:02:52.030804837</td>\n",
       "    </tr>\n",
       "  </tbody>\n",
       "</table>\n",
       "</div>"
      ],
      "text/plain": [
       "                   time  distance_meters  distance_miles  \\\n",
       "split                                                      \n",
       "0k      0 days 00:00:00                0          0.0000   \n",
       "5k      0 days 00:14:14             5000          3.1069   \n",
       "10k     0 days 00:28:23            10000          6.2137   \n",
       "15k     0 days 00:42:33            15000          9.3206   \n",
       "20k     0 days 00:56:45            20000         12.4274   \n",
       "half    0 days 00:59:51            21097         13.1091   \n",
       "25k     0 days 01:11:08            25000         15.5343   \n",
       "30k     0 days 01:25:40            30000         18.6411   \n",
       "35k     0 days 01:40:10            35000         21.7480   \n",
       "40k     0 days 01:54:53            40000         24.8548   \n",
       "nettime 0 days 02:01:09            42195         26.2187   \n",
       "\n",
       "                             pace      time_split                 mean_pace  \n",
       "split                                                                        \n",
       "0k                            NaT 0 days 00:00:00 0 days 00:02:52.030804837  \n",
       "5k         0 days 00:02:50.800000 0 days 00:14:14 0 days 00:02:52.030804837  \n",
       "10k        0 days 00:02:49.800000 0 days 00:14:09 0 days 00:02:52.030804837  \n",
       "15k               0 days 00:02:50 0 days 00:14:10 0 days 00:02:52.030804837  \n",
       "20k        0 days 00:02:50.400000 0 days 00:14:12 0 days 00:02:52.030804837  \n",
       "half    0 days 00:02:49.553327256 0 days 00:03:06 0 days 00:02:52.030804837  \n",
       "25k     0 days 00:02:53.456315655 0 days 00:11:17 0 days 00:02:52.030804837  \n",
       "30k        0 days 00:02:54.400000 0 days 00:14:32 0 days 00:02:52.030804837  \n",
       "35k               0 days 00:02:54 0 days 00:14:30 0 days 00:02:52.030804837  \n",
       "40k        0 days 00:02:56.600000 0 days 00:14:43 0 days 00:02:52.030804837  \n",
       "nettime 0 days 00:02:51.298405467 0 days 00:06:16 0 days 00:02:52.030804837  "
      ]
     },
     "execution_count": 30,
     "metadata": {},
     "output_type": "execute_result"
    }
   ],
   "source": [
    "import numpy as np\n",
    "#compute the distance ellapsed per segment , and convert it to kms\n",
    "dist_diff = (eliud_kipchoge_splits[\"distance_meters\"] /1000).diff().fillna(eliud_kipchoge_splits['distance_meters'][0])\n",
    "#compute the time ellapsed per segment in seconds\n",
    "time_diff = eliud_kipchoge_splits['time'].diff().fillna(eliud_kipchoge_splits['time'][0])  / np.timedelta64(1, \"s\")\n",
    "#compute the speed by dividing the split distance and the split time ellapsed and convert it back to timedelta\n",
    "speed = dist_diff / time_diff\n",
    "pace_timedelta = pd.to_timedelta(1 / speed, unit=\"s\")\n",
    "eliud_kipchoge_splits['pace'] = pace_timedelta\n",
    "eliud_kipchoge_splits['time_split'] = pd.to_timedelta(time_diff, unit='s')\n",
    "eliud_kipchoge_splits['mean_pace'] = eliud_kipchoge_splits['pace'].mean()\n",
    "\n",
    "eliud_kipchoge_splits"
   ]
  },
  {
   "cell_type": "code",
   "execution_count": 31,
   "metadata": {},
   "outputs": [],
   "source": [
    "#remove the 0k from the frame, since it doesn't give us any useful information.\n",
    "eliud_race_results_filtered = eliud_kipchoge_splits.iloc[1:]"
   ]
  },
  {
   "cell_type": "markdown",
   "metadata": {},
   "source": [
    "Finally let's plot the Eliud's performance (timing and pace) for each segment using the line chart visualization."
   ]
  },
  {
   "cell_type": "code",
   "execution_count": 37,
   "metadata": {},
   "outputs": [
    {
     "data": {
      "image/png": "[encoded data removed]",
      "text/plain": [
       "<Figure size 864x576 with 1 Axes>"
      ]
     },
     "metadata": {
      "needs_background": "light"
     },
     "output_type": "display_data"
    }
   ],
   "source": [
    "import matplotlib.ticker as ticker\n",
    "import matplotlib.pyplot as plt\n",
    "import datetime\n",
    "\n",
    "\n",
    "plt.rcParams['figure.figsize'] = [12, 8]\n",
    "\n",
    "\n",
    "def timeTicks(x, pos):\n",
    "    seconds = x / 10**9\n",
    "    d = datetime.timedelta(seconds=seconds)\n",
    "    return str(d)\n",
    "\n",
    "fig, ax2 = plt.subplots()\n",
    "#plot the splits time\n",
    "#format the y-axis to show the labels as timedelta.\n",
    "formatter = ticker.FuncFormatter(timeTicks)\n",
    "#plot the paces per segment\n",
    "line2, = ax2.plot(eliud_race_results_filtered.index, eliud_race_results_filtered['pace'],  linestyle='dashed', color='cyan',  lw=5, alpha=0.8)\n",
    "#plot the overall mean pace\n",
    "line3, = ax2.plot(eliud_race_results_filtered.index, eliud_race_results_filtered['mean_pace'], color='#1b9e77', linestyle='dashed',  lw=5, alpha=0.8)\n",
    "\n",
    "#annotate the pace line with time splits\n",
    "yvalues = line2.get_ydata()\n",
    "for index, y in zip(eliud_race_results_filtered.index, yvalues):\n",
    "    formated_time = datetime.timedelta(seconds=eliud_race_results_filtered.loc[index,'time_split'].total_seconds())\n",
    "    ax2.text(index, y, formated_time, weight=\"bold\", size=12,   )\n",
    "\n",
    "ax2.yaxis.set_major_formatter(formatter)\n",
    "\n",
    "ax2.grid(False)\n",
    "\n",
    "ax2.legend(\n",
    "            (line2, line3),\n",
    "            ('Splits Time', 'Splits Pace', 'Mean Pace'),\n",
    "            loc='lower right',\n",
    "            frameon=False\n",
    ")\n",
    "\n",
    "\n",
    "ax2.set_title(\"Eliud Kipchoge splits time and pace in Berlin Marathon 2022\")\n",
    "ax2.set_xlabel(\"Splits in kms\")\n",
    "ax2.set_ylabel(\"Pace min/km\")\n",
    "\n",
    "plt.show()"
   ]
  },
  {
   "cell_type": "markdown",
   "metadata": {},
   "source": [
    "Kipchoge’s  5km at the Berlin Marathon was completed in 14:14  and with a second 5km run at 14:09 and a third 5k split of 14:10, Kipchoge reached the 20km mark in a time of 00:14:1. It was just after the halfway mark in the Berlin Marathon that Kipchoge began to drift away from his previous pace. He started to slow down, with his time between 20 and 25km was 14:23. THe pace chart also shows his pace increasing from 02:50 to 02:53.  At 30 and 35km, Kipchoge’s delivered times of 14:32 at 30km and 14:30 at 35km in the Berlin Marathon. Between kilometres 35 and 40, Kipchoge was averaging 02:57 per kilometre, compared to his early race averages of 02:50, and his 40km split of 14:43 was 33 seconds slower than his best 5k during the race.\n",
    "\n",
    "However, with a final burst, his pace increased over the final 2.195km of the race, as he posted an average time of =~ 2:52 per kilometre, just two seconds slower than his fastest average kilometre times in the race. Even with his second half positive split,  it’s difficult to argue against this Berlin Marathon 2022 run being the greatest of his already legendary career."
   ]
  },
  {
   "cell_type": "markdown",
   "metadata": {},
   "source": [
    "## What is coming next ?"
   ]
  },
  {
   "cell_type": "markdown",
   "metadata": {},
   "source": [
    "The next releases will focus on courses profile from GPX files and neat plotting features!"
   ]
  },
  {
   "cell_type": "markdown",
   "metadata": {},
   "source": [
    "## Sorry\n",
    "\n",
    "Sorry for the long delay since the last release, I was kept busy working on other projects. This major one release took a lot of time!"
   ]
  },
  {
   "cell_type": "markdown",
   "metadata": {},
   "source": [
    "## Thanks"
   ]
  },
  {
   "cell_type": "markdown",
   "metadata": {},
   "source": [
    "We are constantly developing Runpandas improving its existing features and adding new ones. We will be glad to hear from you about what you like or don’t like, what features you may wish to see in upcoming releases. Please feel free to contact us."
   ]
  }
 ],
 "metadata": {
  "kernelspec": {
   "display_name": "Python 3.8.3 ('runpandas_dev')",
   "language": "python",
   "name": "python3"
  },
  "language_info": {
   "codemirror_mode": {
    "name": "ipython",
    "version": 3
   },
   "file_extension": ".py",
   "mimetype": "text/x-python",
   "name": "python",
   "nbconvert_exporter": "python",
   "pygments_lexer": "ipython3",
   "version": "3.8.3"
  },
  "orig_nbformat": 2,
  "vscode": {
   "interpreter": {
    "hash": "2a188acd0f27a53b17cfad69c436eac3f19ae51e9e26340e7d32ca2c8c278930"
   }
  }
 },
 "nbformat": 4,
 "nbformat_minor": 2
}
