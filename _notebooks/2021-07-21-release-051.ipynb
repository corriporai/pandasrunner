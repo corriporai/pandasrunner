{
 "metadata": {
  "language_info": {
   "codemirror_mode": {
    "name": "ipython",
    "version": 3
   },
   "file_extension": ".py",
   "mimetype": "text/x-python",
   "name": "python",
   "nbconvert_exporter": "python",
   "pygments_lexer": "ipython3",
   "version": "3.8.3"
  },
  "orig_nbformat": 2,
  "kernelspec": {
   "name": "python383jvsc74a57bd0449a6a5da217c2d6cffa80a6a7a4724fa6726b57ec2f120da10e91a7f29f4eb0",
   "display_name": "Python 3.8.3 64-bit ('runpandas_dev': conda)"
  }
 },
 "nbformat": 4,
 "nbformat_minor": 2,
 "cells": [
  {
   "source": [
    "\n",
    "# Release 0.5.1 support to Nike Run Club app tracking files\n",
    "> New release of runpandas comes with the modules to read and handle one or multiple activity files from Nike Run Club tracking social app.\n",
    "- toc: false \n",
    "- badges: true\n",
    "- comments: true\n",
    "- author: Marcel Caraciolo\n",
    "- categories: [general, jupyter, releases]\n",
    "- image: images/nikerun-image.png"
   ],
   "cell_type": "markdown",
   "metadata": {}
  },
  {
   "source": [
    "> This  current state of the project is `early beta`, which means that features can be added, removed or changed in backwards incompatible ways."
   ],
   "cell_type": "markdown",
   "metadata": {}
  },
  {
   "source": [
    "We published this minor release with one more social tracking app reading data support: [Nike Run Club](https://www.nike.com/nrc-app). In this release of [RunPandas 0.5.1](https://pypi.org/project/runpandas/), we include:"
   ],
   "cell_type": "markdown",
   "metadata": {}
  },
  {
   "source": [
    "-  Reader module support to Nike Run Club app ``runpandas.read_nikerun``. Reading and handling the JSON tracking file from the Nike Run API into a ``runpandas.Activity`\n",
    " Reader module support to Nike Run Club app. Reading and handling the JSON tracking file from the Nike Run API into a ``runpandas.Activity`\n",
    "-  Read and traverse a directory of Nike Run JSON activities by combining them into a single Activity by the function ``runpandas.read_dir_nikerun``.\n"
   ],
   "cell_type": "markdown",
   "metadata": {}
  },
  {
   "source": [
    "## What is Runpandas?\n"
   ],
   "cell_type": "markdown",
   "metadata": {}
  },
  {
   "source": [
    "Runpandas is a python package based on ``pandas`` data analysis library, that makes it easier to perform data analysis from your running sessions stored at tracking files from cellphones and GPS smartwatches or social sports applications such as Strava, MapMyRUn, NikeRunClub, etc. It is designed to enable reading, transforming and running metrics analytics from several tracking files and apps.\n"
   ],
   "cell_type": "markdown",
   "metadata": {}
  },
  {
   "source": [
    "## What is Nike Run App?\n"
   ],
   "cell_type": "markdown",
   "metadata": {}
  },
  {
   "source": [
    "Nike Run Club is one of the most popular free fitness apps that tracks users' runs, capturing time, distance, pace, heart rate (with a fitness tracker), and route with an impressively precise GPS. It is available on Android and IOS platforms."
   ],
   "cell_type": "markdown",
   "metadata": {}
  },
  {
   "source": [
    "<img src=\"./images/Nike-Run-Club-iPhone-XS.png\">\n"
   ],
   "cell_type": "markdown",
   "metadata": {}
  },
  {
   "source": [
    "## Main Features\n"
   ],
   "cell_type": "markdown",
   "metadata": {}
  },
  {
   "source": [
    "Nike Run Club doesn't offer a official method to export your historical fitness data, unfortunately. However there are several third-party tools available to overcome this issue. One of them is use the open-source tool [NRC-Exporter](https://github.com/yasoob/nrc-exporter), written in Python, that makes possible by commandline to export all your runs which have associated GPS data and converts them into the GPX format."
   ],
   "cell_type": "markdown",
   "metadata": {}
  },
  {
   "source": [
    "<img src=\"./images/help-nrc-exporter.png\">\n",
    "\n",
    "Screenshot from the NRC-Exporter Official Repository Website"
   ],
   "cell_type": "markdown",
   "metadata": {}
  },
  {
   "source": [
    "The NRC exporter makes available the activity JSON files, which after are converted to GPX format. You can work with both of these formats: GPX or JSON. In this post we will show how to load the JSON files. After running the extractor you will have a directory of all JSON files. It should look something like this:\n",
    "\n",
    "```\n",
    "$ tree activities\n",
    "activities\n",
    "├── 0019f189-d32f-437f-a4d4-ef4f15304324.json\n",
    "├── 0069911c-2cc8-489b-8335-8e613a81124s.json\n",
    "├── 01a09869-0a95-49f2-bd84-75065b701c33.json\n",
    "└── 07e1fa42-a9a9-4626-bbef-60269dc4a111.json\n",
    "```"
   ],
   "cell_type": "markdown",
   "metadata": {}
  },
  {
   "source": [
    "Now you can load these JSON files into our ``runpandas``  reading package."
   ],
   "cell_type": "markdown",
   "metadata": {}
  },
  {
   "source": [
    "### Reading a single workout"
   ],
   "cell_type": "markdown",
   "metadata": {}
  },
  {
   "source": [
    "Let's load an exported run from Nike Run using the method ``runpandas.read_nikerun``.  This method was specially built for loading the exported JSON Nike Run activities, with all the handling data included."
   ],
   "cell_type": "markdown",
   "metadata": {}
  },
  {
   "cell_type": "code",
   "execution_count": 7,
   "metadata": {},
   "outputs": [],
   "source": [
    "#Disable Warnings for a better visualization\n",
    "import warnings\n",
    "warnings.filterwarnings('ignore')"
   ]
  },
  {
   "cell_type": "code",
   "execution_count": 8,
   "metadata": {},
   "outputs": [],
   "source": [
    "#!pip install runpandas\n",
    "import runpandas as rpd\n",
    "activity = rpd.read_nikerun('./data/nikerun-sample.json')"
   ]
  },
  {
   "cell_type": "code",
   "execution_count": 9,
   "metadata": {},
   "outputs": [
    {
     "output_type": "execute_result",
     "data": {
      "text/plain": [
       "                 calories  nikefuel  steps       alt     hr        lon  \\\n",
       "time                                                                     \n",
       "00:00:00              NaN       NaN    NaN  9.340020    NaN -34.894413   \n",
       "00:00:02.900000       NaN       NaN    NaN  9.315611    NaN -34.894470   \n",
       "00:00:05.748000     0.447       NaN    7.0  9.323614    NaN -34.894564   \n",
       "00:00:10.586000     0.729  4.327005   14.0  9.260836  138.0 -34.894624   \n",
       "00:00:15.585000     0.728       NaN   14.0  9.334247  139.0 -34.894678   \n",
       "...                   ...       ...    ...       ...    ...        ...   \n",
       "00:52:39.582000     0.826  7.061214   13.0  9.331132  189.0 -34.894534   \n",
       "00:52:43.582000     0.411       NaN    8.0  9.316407    NaN -34.894465   \n",
       "00:52:44.582000       NaN       NaN    7.0  9.512563    NaN -34.894443   \n",
       "00:52:45.582000       NaN       NaN    NaN  9.324933    NaN -34.894429   \n",
       "00:52:49.582000       NaN  7.064754    7.0       NaN  190.0 -34.894395   \n",
       "\n",
       "                      lat  \n",
       "time                       \n",
       "00:00:00        -8.046077  \n",
       "00:00:02.900000 -8.046149  \n",
       "00:00:05.748000 -8.046194  \n",
       "00:00:10.586000 -8.046292  \n",
       "00:00:15.585000 -8.046401  \n",
       "...                   ...  \n",
       "00:52:39.582000 -8.046602  \n",
       "00:52:43.582000 -8.046533  \n",
       "00:52:44.582000 -8.046515  \n",
       "00:52:45.582000 -8.046494  \n",
       "00:52:49.582000 -8.046398  \n",
       "\n",
       "[727 rows x 7 columns]"
      ],
      "text/html": "<div>\n<style scoped>\n    .dataframe tbody tr th:only-of-type {\n        vertical-align: middle;\n    }\n\n    .dataframe tbody tr th {\n        vertical-align: top;\n    }\n\n    .dataframe thead th {\n        text-align: right;\n    }\n</style>\n<table border=\"1\" class=\"dataframe\">\n  <thead>\n    <tr style=\"text-align: right;\">\n      <th></th>\n      <th>calories</th>\n      <th>nikefuel</th>\n      <th>steps</th>\n      <th>alt</th>\n      <th>hr</th>\n      <th>lon</th>\n      <th>lat</th>\n    </tr>\n    <tr>\n      <th>time</th>\n      <th></th>\n      <th></th>\n      <th></th>\n      <th></th>\n      <th></th>\n      <th></th>\n      <th></th>\n    </tr>\n  </thead>\n  <tbody>\n    <tr>\n      <th>00:00:00</th>\n      <td>NaN</td>\n      <td>NaN</td>\n      <td>NaN</td>\n      <td>9.340020</td>\n      <td>NaN</td>\n      <td>-34.894413</td>\n      <td>-8.046077</td>\n    </tr>\n    <tr>\n      <th>00:00:02.900000</th>\n      <td>NaN</td>\n      <td>NaN</td>\n      <td>NaN</td>\n      <td>9.315611</td>\n      <td>NaN</td>\n      <td>-34.894470</td>\n      <td>-8.046149</td>\n    </tr>\n    <tr>\n      <th>00:00:05.748000</th>\n      <td>0.447</td>\n      <td>NaN</td>\n      <td>7.0</td>\n      <td>9.323614</td>\n      <td>NaN</td>\n      <td>-34.894564</td>\n      <td>-8.046194</td>\n    </tr>\n    <tr>\n      <th>00:00:10.586000</th>\n      <td>0.729</td>\n      <td>4.327005</td>\n      <td>14.0</td>\n      <td>9.260836</td>\n      <td>138.0</td>\n      <td>-34.894624</td>\n      <td>-8.046292</td>\n    </tr>\n    <tr>\n      <th>00:00:15.585000</th>\n      <td>0.728</td>\n      <td>NaN</td>\n      <td>14.0</td>\n      <td>9.334247</td>\n      <td>139.0</td>\n      <td>-34.894678</td>\n      <td>-8.046401</td>\n    </tr>\n    <tr>\n      <th>...</th>\n      <td>...</td>\n      <td>...</td>\n      <td>...</td>\n      <td>...</td>\n      <td>...</td>\n      <td>...</td>\n      <td>...</td>\n    </tr>\n    <tr>\n      <th>00:52:39.582000</th>\n      <td>0.826</td>\n      <td>7.061214</td>\n      <td>13.0</td>\n      <td>9.331132</td>\n      <td>189.0</td>\n      <td>-34.894534</td>\n      <td>-8.046602</td>\n    </tr>\n    <tr>\n      <th>00:52:43.582000</th>\n      <td>0.411</td>\n      <td>NaN</td>\n      <td>8.0</td>\n      <td>9.316407</td>\n      <td>NaN</td>\n      <td>-34.894465</td>\n      <td>-8.046533</td>\n    </tr>\n    <tr>\n      <th>00:52:44.582000</th>\n      <td>NaN</td>\n      <td>NaN</td>\n      <td>7.0</td>\n      <td>9.512563</td>\n      <td>NaN</td>\n      <td>-34.894443</td>\n      <td>-8.046515</td>\n    </tr>\n    <tr>\n      <th>00:52:45.582000</th>\n      <td>NaN</td>\n      <td>NaN</td>\n      <td>NaN</td>\n      <td>9.324933</td>\n      <td>NaN</td>\n      <td>-34.894429</td>\n      <td>-8.046494</td>\n    </tr>\n    <tr>\n      <th>00:52:49.582000</th>\n      <td>NaN</td>\n      <td>7.064754</td>\n      <td>7.0</td>\n      <td>NaN</td>\n      <td>190.0</td>\n      <td>-34.894395</td>\n      <td>-8.046398</td>\n    </tr>\n  </tbody>\n</table>\n<p>727 rows × 7 columns</p>\n</div>"
     },
     "metadata": {},
     "execution_count": 9
    }
   ],
   "source": [
    "activity"
   ]
  },
  {
   "source": [
    "As shown above, the activity now after loaded can be analysed as any other activity in runpandas!"
   ],
   "cell_type": "markdown",
   "metadata": {}
  },
  {
   "cell_type": "code",
   "execution_count": 10,
   "metadata": {},
   "outputs": [],
   "source": [
    "#compute the common metrics for the running activity such as distance per position, speed, pace, etc.\n",
    "activity['distpos']  = activity.compute.distance()\n",
    "activity['speed']  = activity.compute.speed(from_distances=True)\n",
    "activity_only_moving = activity.only_moving()"
   ]
  },
  {
   "cell_type": "code",
   "execution_count": 11,
   "metadata": {},
   "outputs": [
    {
     "output_type": "execute_result",
     "data": {
      "text/plain": [
       "Session                           Running: 04-07-2021 11:23:19\n",
       "Total distance (meters)                                8248.08\n",
       "Total ellapsed time                     0 days 00:52:49.582000\n",
       "Total moving time                       0 days 00:47:47.583000\n",
       "Average speed (km/h)                                   9.36815\n",
       "Average moving speed (km/h)                            10.2845\n",
       "Average pace (per 1 km)                        0 days 00:06:24\n",
       "Average pace moving (per 1 km)                 0 days 00:05:50\n",
       "Average cadence                                            NaN\n",
       "Average moving cadence                                     NaN\n",
       "Average heart rate                                     177.822\n",
       "Average moving heart rate                              177.957\n",
       "Average temperature                                        NaN\n",
       "dtype: object"
      ]
     },
     "metadata": {},
     "execution_count": 11
    }
   ],
   "source": [
    "activity_only_moving.summary()"
   ]
  },
  {
   "source": [
    "### Reading multiple workouts"
   ],
   "cell_type": "markdown",
   "metadata": {}
  },
  {
   "source": [
    "\n",
    "We also provides the method ``runpandas.read_dir_nikerun``, which allows the user to read all the tracking files in JSON format in a directory and combined them into a ``runpandas.Actvity`` split by sessions based on the timestamp of each activity. Does it sound familiar to you?  Exactly, it works as same as the ``runpandas.read_directory_aggregate``, but it is specific for the Nike Run JSON output files."
   ],
   "cell_type": "markdown",
   "metadata": {}
  },
  {
   "source": [
    "To illustrate this in action, let's load a session of 6 activities of a single runner exported from he Nike Run account:"
   ],
   "cell_type": "markdown",
   "metadata": {}
  },
  {
   "cell_type": "code",
   "execution_count": 12,
   "metadata": {},
   "outputs": [],
   "source": [
    "#!pip install runpandas\n",
    "import runpandas as rpd\n",
    "session = rpd.read_dir_nikerun('./data/nikerun_session')"
   ]
  },
  {
   "cell_type": "code",
   "execution_count": 13,
   "metadata": {},
   "outputs": [
    {
     "output_type": "execute_result",
     "data": {
      "text/plain": [
       "                                                  calories  nikefuel  steps  \\\n",
       "start                            time                                         \n",
       "2021-01-31 09:18:46.676000+00:00 00:00:00              NaN       NaN    NaN   \n",
       "                                 00:00:03            0.873       NaN    7.0   \n",
       "                                 00:00:06            0.862       NaN    8.0   \n",
       "                                 00:00:08.999000     0.150  2.056452    7.0   \n",
       "                                 00:00:12.999000     0.509       NaN   14.0   \n",
       "...                                                    ...       ...    ...   \n",
       "2020-09-18 09:23:20.620000+00:00 00:25:38.379000     0.737       NaN   12.0   \n",
       "                                 00:25:42.379000     0.362  5.205709    7.0   \n",
       "                                 00:25:46.378000     0.725       NaN   14.0   \n",
       "                                 00:25:52.378000       NaN  5.242402   11.0   \n",
       "                                 00:25:56.378000       NaN       NaN    NaN   \n",
       "\n",
       "                                                       alt     hr        lon  \\\n",
       "start                            time                                          \n",
       "2021-01-31 09:18:46.676000+00:00 00:00:00         7.308532    NaN -34.891723   \n",
       "                                 00:00:03         7.328482    NaN -34.891698   \n",
       "                                 00:00:06         7.314730    NaN -34.891674   \n",
       "                                 00:00:08.999000  7.311658    NaN -34.891632   \n",
       "                                 00:00:12.999000  7.334774    NaN -34.891624   \n",
       "...                                                    ...    ...        ...   \n",
       "2020-09-18 09:23:20.620000+00:00 00:25:38.379000  1.117384  176.0 -34.897463   \n",
       "                                 00:25:42.379000  0.950017  176.0 -34.897494   \n",
       "                                 00:25:46.378000  0.950000    NaN -34.897489   \n",
       "                                 00:25:52.378000  0.950000  175.0 -34.897485   \n",
       "                                 00:25:56.378000       NaN    NaN -34.897540   \n",
       "\n",
       "                                                       lat  \n",
       "start                            time                       \n",
       "2021-01-31 09:18:46.676000+00:00 00:00:00        -8.046471  \n",
       "                                 00:00:03        -8.046576  \n",
       "                                 00:00:06        -8.046687  \n",
       "                                 00:00:08.999000 -8.046807  \n",
       "                                 00:00:12.999000 -8.046902  \n",
       "...                                                    ...  \n",
       "2020-09-18 09:23:20.620000+00:00 00:25:38.379000 -8.126419  \n",
       "                                 00:25:42.379000 -8.126517  \n",
       "                                 00:25:46.378000 -8.126607  \n",
       "                                 00:25:52.378000 -8.126700  \n",
       "                                 00:25:56.378000 -8.126788  \n",
       "\n",
       "[3742 rows x 7 columns]"
      ],
      "text/html": "<div>\n<style scoped>\n    .dataframe tbody tr th:only-of-type {\n        vertical-align: middle;\n    }\n\n    .dataframe tbody tr th {\n        vertical-align: top;\n    }\n\n    .dataframe thead th {\n        text-align: right;\n    }\n</style>\n<table border=\"1\" class=\"dataframe\">\n  <thead>\n    <tr style=\"text-align: right;\">\n      <th></th>\n      <th></th>\n      <th>calories</th>\n      <th>nikefuel</th>\n      <th>steps</th>\n      <th>alt</th>\n      <th>hr</th>\n      <th>lon</th>\n      <th>lat</th>\n    </tr>\n    <tr>\n      <th>start</th>\n      <th>time</th>\n      <th></th>\n      <th></th>\n      <th></th>\n      <th></th>\n      <th></th>\n      <th></th>\n      <th></th>\n    </tr>\n  </thead>\n  <tbody>\n    <tr>\n      <th rowspan=\"5\" valign=\"top\">2021-01-31 09:18:46.676000+00:00</th>\n      <th>00:00:00</th>\n      <td>NaN</td>\n      <td>NaN</td>\n      <td>NaN</td>\n      <td>7.308532</td>\n      <td>NaN</td>\n      <td>-34.891723</td>\n      <td>-8.046471</td>\n    </tr>\n    <tr>\n      <th>00:00:03</th>\n      <td>0.873</td>\n      <td>NaN</td>\n      <td>7.0</td>\n      <td>7.328482</td>\n      <td>NaN</td>\n      <td>-34.891698</td>\n      <td>-8.046576</td>\n    </tr>\n    <tr>\n      <th>00:00:06</th>\n      <td>0.862</td>\n      <td>NaN</td>\n      <td>8.0</td>\n      <td>7.314730</td>\n      <td>NaN</td>\n      <td>-34.891674</td>\n      <td>-8.046687</td>\n    </tr>\n    <tr>\n      <th>00:00:08.999000</th>\n      <td>0.150</td>\n      <td>2.056452</td>\n      <td>7.0</td>\n      <td>7.311658</td>\n      <td>NaN</td>\n      <td>-34.891632</td>\n      <td>-8.046807</td>\n    </tr>\n    <tr>\n      <th>00:00:12.999000</th>\n      <td>0.509</td>\n      <td>NaN</td>\n      <td>14.0</td>\n      <td>7.334774</td>\n      <td>NaN</td>\n      <td>-34.891624</td>\n      <td>-8.046902</td>\n    </tr>\n    <tr>\n      <th>...</th>\n      <th>...</th>\n      <td>...</td>\n      <td>...</td>\n      <td>...</td>\n      <td>...</td>\n      <td>...</td>\n      <td>...</td>\n      <td>...</td>\n    </tr>\n    <tr>\n      <th rowspan=\"5\" valign=\"top\">2020-09-18 09:23:20.620000+00:00</th>\n      <th>00:25:38.379000</th>\n      <td>0.737</td>\n      <td>NaN</td>\n      <td>12.0</td>\n      <td>1.117384</td>\n      <td>176.0</td>\n      <td>-34.897463</td>\n      <td>-8.126419</td>\n    </tr>\n    <tr>\n      <th>00:25:42.379000</th>\n      <td>0.362</td>\n      <td>5.205709</td>\n      <td>7.0</td>\n      <td>0.950017</td>\n      <td>176.0</td>\n      <td>-34.897494</td>\n      <td>-8.126517</td>\n    </tr>\n    <tr>\n      <th>00:25:46.378000</th>\n      <td>0.725</td>\n      <td>NaN</td>\n      <td>14.0</td>\n      <td>0.950000</td>\n      <td>NaN</td>\n      <td>-34.897489</td>\n      <td>-8.126607</td>\n    </tr>\n    <tr>\n      <th>00:25:52.378000</th>\n      <td>NaN</td>\n      <td>5.242402</td>\n      <td>11.0</td>\n      <td>0.950000</td>\n      <td>175.0</td>\n      <td>-34.897485</td>\n      <td>-8.126700</td>\n    </tr>\n    <tr>\n      <th>00:25:56.378000</th>\n      <td>NaN</td>\n      <td>NaN</td>\n      <td>NaN</td>\n      <td>NaN</td>\n      <td>NaN</td>\n      <td>-34.897540</td>\n      <td>-8.126788</td>\n    </tr>\n  </tbody>\n</table>\n<p>3742 rows × 7 columns</p>\n</div>"
     },
     "metadata": {},
     "execution_count": 13
    }
   ],
   "source": [
    "session"
   ]
  },
  {
   "source": [
    "print('There are ',  session.session.count(), 'activities')"
   ],
   "cell_type": "code",
   "metadata": {},
   "execution_count": 14,
   "outputs": [
    {
     "output_type": "stream",
     "name": "stdout",
     "text": [
      "There are  6 activities\n"
     ]
    }
   ]
  },
  {
   "cell_type": "code",
   "execution_count": 17,
   "metadata": {},
   "outputs": [],
   "source": [
    "#In this example we compute the distance and the distance per position across all workouts\n",
    "session = session.session.distance()\n",
    "#comput the speed for each activity\n",
    "session = session.session.speed(from_distances=True)\n",
    "#compute the pace for each activity\n",
    "session = session.session.pace()\n",
    "#compute the inactivity periods for each activity\n",
    "session = session.session.only_moving()"
   ]
  },
  {
   "cell_type": "code",
   "execution_count": 18,
   "metadata": {},
   "outputs": [
    {
     "output_type": "execute_result",
     "data": {
      "text/plain": [
       "                                     moving_time  mean_speed  max_speed  \\\n",
       "start                                                                     \n",
       "2020-08-16 10:06:00.150000+00:00 00:17:51.850000    2.190390  15.123177   \n",
       "2020-09-18 09:23:20.620000+00:00 00:25:49.378000    2.697902  13.684714   \n",
       "2021-01-31 09:18:46.676000+00:00 00:53:54.324000    2.452860  13.833715   \n",
       "2021-04-02 09:39:34+00:00               00:30:31    2.779288  10.529306   \n",
       "2021-06-11 09:30:44+00:00               00:25:50    2.630604   6.038798   \n",
       "2021-07-04 11:23:19.418000+00:00 00:47:47.583000    2.602263   4.212320   \n",
       "\n",
       "                                 mean_pace max_pace  mean_moving_speed  \\\n",
       "start                                                                    \n",
       "2020-08-16 10:06:00.150000+00:00  00:07:36 00:01:06           2.237329   \n",
       "2020-09-18 09:23:20.620000+00:00  00:06:10 00:01:13           2.707618   \n",
       "2021-01-31 09:18:46.676000+00:00  00:06:47 00:01:12           2.615802   \n",
       "2021-04-02 09:39:34+00:00         00:05:59 00:01:34           2.800375   \n",
       "2021-06-11 09:30:44+00:00         00:06:20 00:02:45           2.693010   \n",
       "2021-07-04 11:23:19.418000+00:00  00:06:24 00:03:57           2.856801   \n",
       "\n",
       "                                 mean_moving_pace  mean_cadence  max_cadence  \\\n",
       "start                                                                          \n",
       "2020-08-16 10:06:00.150000+00:00         00:07:26           NaN          NaN   \n",
       "2020-09-18 09:23:20.620000+00:00         00:06:09           NaN          NaN   \n",
       "2021-01-31 09:18:46.676000+00:00         00:06:22           NaN          NaN   \n",
       "2021-04-02 09:39:34+00:00                00:05:57           NaN          NaN   \n",
       "2021-06-11 09:30:44+00:00                00:06:11           NaN          NaN   \n",
       "2021-07-04 11:23:19.418000+00:00         00:05:50           NaN          NaN   \n",
       "\n",
       "                                  mean_moving_cadence  mean_heart_rate  \\\n",
       "start                                                                    \n",
       "2020-08-16 10:06:00.150000+00:00                  NaN       160.772152   \n",
       "2020-09-18 09:23:20.620000+00:00                  NaN       171.626415   \n",
       "2021-01-31 09:18:46.676000+00:00                  NaN       168.152542   \n",
       "2021-04-02 09:39:34+00:00                         NaN       178.212625   \n",
       "2021-06-11 09:30:44+00:00                         NaN       167.064516   \n",
       "2021-07-04 11:23:19.418000+00:00                  NaN       177.821862   \n",
       "\n",
       "                                  max_heart_rate  mean_moving_heart_rate  \\\n",
       "start                                                                      \n",
       "2020-08-16 10:06:00.150000+00:00           179.0              160.788462   \n",
       "2020-09-18 09:23:20.620000+00:00           183.0              171.623574   \n",
       "2021-01-31 09:18:46.676000+00:00           186.0              168.320683   \n",
       "2021-04-02 09:39:34+00:00                  189.0              178.203333   \n",
       "2021-06-11 09:30:44+00:00                  180.0              167.285714   \n",
       "2021-07-04 11:23:19.418000+00:00           192.0              177.956967   \n",
       "\n",
       "                                  mean_temperature  min_temperature  \\\n",
       "start                                                                 \n",
       "2020-08-16 10:06:00.150000+00:00               NaN              NaN   \n",
       "2020-09-18 09:23:20.620000+00:00               NaN              NaN   \n",
       "2021-01-31 09:18:46.676000+00:00               NaN              NaN   \n",
       "2021-04-02 09:39:34+00:00                      NaN              NaN   \n",
       "2021-06-11 09:30:44+00:00                      NaN              NaN   \n",
       "2021-07-04 11:23:19.418000+00:00               NaN              NaN   \n",
       "\n",
       "                                  max_temperature  total_distance  \\\n",
       "start                                                               \n",
       "2020-08-16 10:06:00.150000+00:00              NaN     2420.052106   \n",
       "2020-09-18 09:23:20.620000+00:00              NaN     4198.955573   \n",
       "2021-01-31 09:18:46.676000+00:00              NaN     8502.408803   \n",
       "2021-04-02 09:39:34+00:00                     NaN     5138.905933   \n",
       "2021-06-11 09:30:44+00:00                     NaN     4206.337676   \n",
       "2021-07-04 11:23:19.418000+00:00              NaN     8248.084577   \n",
       "\n",
       "                                   ellapsed_time  \n",
       "start                                             \n",
       "2020-08-16 10:06:00.150000+00:00 00:18:24.850000  \n",
       "2020-09-18 09:23:20.620000+00:00 00:25:56.378000  \n",
       "2021-01-31 09:18:46.676000+00:00 00:57:46.325000  \n",
       "2021-04-02 09:39:34+00:00        00:30:49.001000  \n",
       "2021-06-11 09:30:44+00:00        00:26:39.001000  \n",
       "2021-07-04 11:23:19.418000+00:00 00:52:49.582000  "
      ],
      "text/html": "<div>\n<style scoped>\n    .dataframe tbody tr th:only-of-type {\n        vertical-align: middle;\n    }\n\n    .dataframe tbody tr th {\n        vertical-align: top;\n    }\n\n    .dataframe thead th {\n        text-align: right;\n    }\n</style>\n<table border=\"1\" class=\"dataframe\">\n  <thead>\n    <tr style=\"text-align: right;\">\n      <th></th>\n      <th>moving_time</th>\n      <th>mean_speed</th>\n      <th>max_speed</th>\n      <th>mean_pace</th>\n      <th>max_pace</th>\n      <th>mean_moving_speed</th>\n      <th>mean_moving_pace</th>\n      <th>mean_cadence</th>\n      <th>max_cadence</th>\n      <th>mean_moving_cadence</th>\n      <th>mean_heart_rate</th>\n      <th>max_heart_rate</th>\n      <th>mean_moving_heart_rate</th>\n      <th>mean_temperature</th>\n      <th>min_temperature</th>\n      <th>max_temperature</th>\n      <th>total_distance</th>\n      <th>ellapsed_time</th>\n    </tr>\n    <tr>\n      <th>start</th>\n      <th></th>\n      <th></th>\n      <th></th>\n      <th></th>\n      <th></th>\n      <th></th>\n      <th></th>\n      <th></th>\n      <th></th>\n      <th></th>\n      <th></th>\n      <th></th>\n      <th></th>\n      <th></th>\n      <th></th>\n      <th></th>\n      <th></th>\n      <th></th>\n    </tr>\n  </thead>\n  <tbody>\n    <tr>\n      <th>2020-08-16 10:06:00.150000+00:00</th>\n      <td>00:17:51.850000</td>\n      <td>2.190390</td>\n      <td>15.123177</td>\n      <td>00:07:36</td>\n      <td>00:01:06</td>\n      <td>2.237329</td>\n      <td>00:07:26</td>\n      <td>NaN</td>\n      <td>NaN</td>\n      <td>NaN</td>\n      <td>160.772152</td>\n      <td>179.0</td>\n      <td>160.788462</td>\n      <td>NaN</td>\n      <td>NaN</td>\n      <td>NaN</td>\n      <td>2420.052106</td>\n      <td>00:18:24.850000</td>\n    </tr>\n    <tr>\n      <th>2020-09-18 09:23:20.620000+00:00</th>\n      <td>00:25:49.378000</td>\n      <td>2.697902</td>\n      <td>13.684714</td>\n      <td>00:06:10</td>\n      <td>00:01:13</td>\n      <td>2.707618</td>\n      <td>00:06:09</td>\n      <td>NaN</td>\n      <td>NaN</td>\n      <td>NaN</td>\n      <td>171.626415</td>\n      <td>183.0</td>\n      <td>171.623574</td>\n      <td>NaN</td>\n      <td>NaN</td>\n      <td>NaN</td>\n      <td>4198.955573</td>\n      <td>00:25:56.378000</td>\n    </tr>\n    <tr>\n      <th>2021-01-31 09:18:46.676000+00:00</th>\n      <td>00:53:54.324000</td>\n      <td>2.452860</td>\n      <td>13.833715</td>\n      <td>00:06:47</td>\n      <td>00:01:12</td>\n      <td>2.615802</td>\n      <td>00:06:22</td>\n      <td>NaN</td>\n      <td>NaN</td>\n      <td>NaN</td>\n      <td>168.152542</td>\n      <td>186.0</td>\n      <td>168.320683</td>\n      <td>NaN</td>\n      <td>NaN</td>\n      <td>NaN</td>\n      <td>8502.408803</td>\n      <td>00:57:46.325000</td>\n    </tr>\n    <tr>\n      <th>2021-04-02 09:39:34+00:00</th>\n      <td>00:30:31</td>\n      <td>2.779288</td>\n      <td>10.529306</td>\n      <td>00:05:59</td>\n      <td>00:01:34</td>\n      <td>2.800375</td>\n      <td>00:05:57</td>\n      <td>NaN</td>\n      <td>NaN</td>\n      <td>NaN</td>\n      <td>178.212625</td>\n      <td>189.0</td>\n      <td>178.203333</td>\n      <td>NaN</td>\n      <td>NaN</td>\n      <td>NaN</td>\n      <td>5138.905933</td>\n      <td>00:30:49.001000</td>\n    </tr>\n    <tr>\n      <th>2021-06-11 09:30:44+00:00</th>\n      <td>00:25:50</td>\n      <td>2.630604</td>\n      <td>6.038798</td>\n      <td>00:06:20</td>\n      <td>00:02:45</td>\n      <td>2.693010</td>\n      <td>00:06:11</td>\n      <td>NaN</td>\n      <td>NaN</td>\n      <td>NaN</td>\n      <td>167.064516</td>\n      <td>180.0</td>\n      <td>167.285714</td>\n      <td>NaN</td>\n      <td>NaN</td>\n      <td>NaN</td>\n      <td>4206.337676</td>\n      <td>00:26:39.001000</td>\n    </tr>\n    <tr>\n      <th>2021-07-04 11:23:19.418000+00:00</th>\n      <td>00:47:47.583000</td>\n      <td>2.602263</td>\n      <td>4.212320</td>\n      <td>00:06:24</td>\n      <td>00:03:57</td>\n      <td>2.856801</td>\n      <td>00:05:50</td>\n      <td>NaN</td>\n      <td>NaN</td>\n      <td>NaN</td>\n      <td>177.821862</td>\n      <td>192.0</td>\n      <td>177.956967</td>\n      <td>NaN</td>\n      <td>NaN</td>\n      <td>NaN</td>\n      <td>8248.084577</td>\n      <td>00:52:49.582000</td>\n    </tr>\n  </tbody>\n</table>\n</div>"
     },
     "metadata": {},
     "execution_count": 18
    }
   ],
   "source": [
    "summary = session.session.summarize()\n",
    "summary"
   ]
  },
  {
   "cell_type": "code",
   "execution_count": 19,
   "metadata": {},
   "outputs": [
    {
     "output_type": "stream",
     "name": "stdout",
     "text": [
      "Session Interval: 322 days\nTotal Workouts: 6 runnings\nTota KM Distance: 32.714744667475955\nAverage Pace (all runs): 0 days 00:06:32.666666\nAverage Moving Pace (all runs): 0 days 00:06:19.166666\nAverage KM Distance (all runs): 5.45\n"
     ]
    }
   ],
   "source": [
    "print('Session Interval:', (summary.index.to_series().max() - summary.index.to_series().min()).days, 'days')\n",
    "print('Total Workouts:', len(summary), 'runnings')\n",
    "print('Tota KM Distance:', summary['total_distance'].sum() / 1000)\n",
    "print('Average Pace (all runs):', summary.mean_pace.mean())\n",
    "print('Average Moving Pace (all runs):', summary.mean_moving_pace.mean())\n",
    "print('Average KM Distance (all runs):', round(summary.total_distance.mean()/ 1000,2))"
   ]
  },
  {
   "source": [
    "As we illustrated above, we can extract several statistics from the session workouts using the same methods and acessors available from runpandas. "
   ],
   "cell_type": "markdown",
   "metadata": {}
  },
  {
   "source": [
    "## What is coming next ?"
   ],
   "cell_type": "markdown",
   "metadata": {}
  },
  {
   "source": [
    "The next releases will focus on supporting marathon results.  It will be awesome, keep tunned!"
   ],
   "cell_type": "markdown",
   "metadata": {}
  },
  {
   "source": [
    "## Thanks"
   ],
   "cell_type": "markdown",
   "metadata": {}
  },
  {
   "source": [
    "We are constantly developing Runpandas improving its existing features and adding new ones. We will be glad to hear from you about what you like or don’t like, what features you may wish to see in upcoming releases. Please feel free to contact us."
   ],
   "cell_type": "markdown",
   "metadata": {}
  }
 ]
}