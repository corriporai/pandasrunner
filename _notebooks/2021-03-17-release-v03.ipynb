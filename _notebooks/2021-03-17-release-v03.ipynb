{
 "metadata": {
  "language_info": {
   "codemirror_mode": {
    "name": "ipython",
    "version": 3
   },
   "file_extension": ".py",
   "mimetype": "text/x-python",
   "name": "python",
   "nbconvert_exporter": "python",
   "pygments_lexer": "ipython3",
   "version": "3.8.3-final"
  },
  "orig_nbformat": 2,
  "kernelspec": {
   "name": "python3",
   "display_name": "Python 3.8.3 64-bit",
   "metadata": {
    "interpreter": {
     "hash": "449a6a5da217c2d6cffa80a6a7a4724fa6726b57ec2f120da10e91a7f29f4eb0"
    }
   }
  }
 },
 "nbformat": 4,
 "nbformat_minor": 2,
 "cells": [
  {
   "source": [
    "# Release 0.3.0 with moving metrics! \n",
    "> New release of runpandas comes with new features and improved docs!\n",
    "\n",
    "- toc: false \n",
    "- badges: true\n",
    "- comments: true\n",
    "- author: Marcel Caraciolo\n",
    "- categories: [general, jupyter, releases]\n",
    "- image: images/speed.png"
   ],
   "cell_type": "markdown",
   "metadata": {}
  },
  {
   "source": [
    "> This  current state of the project is `early beta`, which means that features can be added, removed or changed in backwards incompatible ways."
   ],
   "cell_type": "markdown",
   "metadata": {}
  },
  {
   "source": [
    "We are very excited to announce [RunPandas 0.3](https://pypi.org/project/runpandas/). This release comes with new features and fixes, let's highlight them:"
   ],
   "cell_type": "markdown",
   "metadata": {}
  },
  {
   "source": [
    "- Support to moving metrics, with the capability of detecting periods of inactivity.\n",
    "- Support to compute some running general statistics such as total time elapsed and moving time elapsed.\n",
    "- Support to imputated statistics:  speed in m/s and total distance and distance per position.\n",
    "- Added [Zenodo](https://zenodo.org/) DOI badge"
   ],
   "cell_type": "markdown",
   "metadata": {}
  },
  {
   "source": [
    "## What is Runpandas?\n"
   ],
   "cell_type": "markdown",
   "metadata": {}
  },
  {
   "source": [
    "Runpandas is a python package based on ``pandas`` data analysis library, that makes it easier to perform data analysis from your running sessions stored at tracking files from cellphones and GPS smartwatches or social sports applications such as Strava, MapMyRUn, NikeRunClub, etc. It is designed to enable reading, transforming and running metrics analytics from several tracking files and apps.\n"
   ],
   "cell_type": "markdown",
   "metadata": {}
  },
  {
   "source": [
    "## Main Features\n"
   ],
   "cell_type": "markdown",
   "metadata": {}
  },
  {
   "source": [
    "### Support to calculated running metrics: total elapsed time, speed and total distance"
   ],
   "cell_type": "markdown",
   "metadata": {}
  },
  {
   "source": [
    "The `Activity` dataframe now contains special properties that presents some statistics from the workout such as elapsed time, speed and the distance of workout in meters."
   ],
   "cell_type": "markdown",
   "metadata": {}
  },
  {
   "cell_type": "code",
   "execution_count": 10,
   "metadata": {},
   "outputs": [],
   "source": [
    "#Disable INFO Logging for a better visualization\n",
    "import logging\n",
    "logging.getLogger().setLevel(logging.CRITICAL)"
   ]
  },
  {
   "cell_type": "code",
   "execution_count": 11,
   "metadata": {},
   "outputs": [],
   "source": [
    "# !pip install runpandas\n",
    "import runpandas as rpd\n",
    "activity = rpd.read_file('./data/sample.tcx')"
   ]
  },
  {
   "source": [
    "The total ellapsed time is the duration from the moment you hit start on your device until the moment you finish the activity. The total distance is the total of meters ran by the athetle in the activity. The speed is measured in meters per second, and returns a ``runpandas.MeasureSeries.Speed`` series with the ratio of the distance traveled per record and the number of seconds to run it. \n",
    " \n",
    "Occasionally, some observations such as speed, distance and others must be calculated based on available data in the given activity. In runpandas there are  special accessors (`runpandas.acessors`) that computes some of these metrics.  We will compute the `speed` and the `distance per position` observations using the latitude and longitude for each record and calculate the haversine distance in meters and the speed in meters per second."
   ],
   "cell_type": "markdown",
   "metadata": {}
  },
  {
   "cell_type": "code",
   "execution_count": 12,
   "metadata": {},
   "outputs": [
    {
     "output_type": "stream",
     "name": "stdout",
     "text": [
      "0 days 00:33:11\n4686.31103516\n"
     ]
    }
   ],
   "source": [
    "#total time elapsed for the activity\n",
    "print(activity.ellapsed_time)\n",
    "#distance of workout in meters\n",
    "print(activity.distance)"
   ]
  },
  {
   "cell_type": "code",
   "execution_count": 13,
   "metadata": {},
   "outputs": [
    {
     "output_type": "execute_result",
     "data": {
      "text/plain": [
       "time\n",
       "00:00:00          NaN\n",
       "00:00:01     0.333146\n",
       "00:00:06     1.678792\n",
       "00:00:12    11.639901\n",
       "00:00:16     9.183847\n",
       "Name: distpos, dtype: float64"
      ]
     },
     "metadata": {},
     "execution_count": 13
    }
   ],
   "source": [
    "#compute the distance using haversine formula between two consecutive latitude, longitudes observations.\n",
    "activity['distpos']  = activity.compute.distance()\n",
    "activity['distpos'].head()"
   ]
  },
  {
   "cell_type": "code",
   "execution_count": 15,
   "metadata": {},
   "outputs": [
    {
     "output_type": "execute_result",
     "data": {
      "text/plain": [
       "time\n",
       "00:00:00         NaN\n",
       "00:00:01    0.333146\n",
       "00:00:06    0.335758\n",
       "00:00:12    1.939984\n",
       "00:00:16    2.295962\n",
       "Name: speed, dtype: float64"
      ]
     },
     "metadata": {},
     "execution_count": 15
    }
   ],
   "source": [
    "#compute the speed using the distance per position and the time recorded in seconds to run it.\n",
    "activity['speed']  = activity.compute.speed(from_distances=True)\n",
    "activity['speed'].head()"
   ]
  },
  {
   "source": [
    "In runpandas we will also have special atributes at the ``runpandas.MeasureSeries`` that can compute transformations such as speed conversion from m/s to km/h."
   ],
   "cell_type": "markdown",
   "metadata": {}
  },
  {
   "cell_type": "code",
   "execution_count": 18,
   "metadata": {},
   "outputs": [
    {
     "output_type": "execute_result",
     "data": {
      "text/plain": [
       "time\n",
       "00:00:00          NaN\n",
       "00:00:01     1.199325\n",
       "00:00:06     1.208731\n",
       "00:00:12     6.983941\n",
       "00:00:16     8.265462\n",
       "              ...    \n",
       "00:32:51    11.864734\n",
       "00:32:56    12.001946\n",
       "00:33:02    13.600020\n",
       "00:33:07    13.428554\n",
       "00:33:11    13.155589\n",
       "Name: speed, Length: 383, dtype: float64"
      ]
     },
     "metadata": {},
     "execution_count": 18
    }
   ],
   "source": [
    "#kph property that converts m/s to km/h.\n",
    "activity['speed'].kph"
   ]
  },
  {
   "source": [
    "### Support to detection of periods of inactivity (Moving time)"
   ],
   "cell_type": "markdown",
   "metadata": {}
  },
  {
   "source": [
    "With the advent of the advanced tracking devices, they are capable of estimating the time that the runner was active. Then new devices can now calculate the moving time based on the GPS locations, distance, and speed of the activity. There are cases that the athlete can also use the pause button to deliberately pause the activity for any reason (stoplights, active rests, bathroom stops or even stopping for photos).  \n",
    "\n",
    "Runpandas will attempt to calculate based on the metrics available in the activity the moving time by detecting all the periods of inactivity. The formula is based on the speed per record (distance recorded) below a specified threshold. It is a powerful metric that the runner can now know to see his real performance, removing any bias related to stopped periods. This metric is quite popular also in several tracking platforms such as Garmin and Strava. \n"
   ],
   "cell_type": "markdown",
   "metadata": {}
  },
  {
   "source": [
    "With the new dataframe auxiliar method ``Activity.only_moving``, runpandas detects the periods of inactivity and returns the `moving` series containing all the observations considered to be stopped. It returns a ``runpandas.Activity`` dataframe with a special column named ``moving`` indexed by the Activity's TimeIndex. It is ``pandas.Series`` containing a vector of booleans which indicates the stopped periods. Boolean indexing it will help build quick filters to ignore any observations considered by the algorithm as a inactivity. "
   ],
   "cell_type": "markdown",
   "metadata": {}
  },
  {
   "cell_type": "code",
   "execution_count": 19,
   "metadata": {},
   "outputs": [
    {
     "output_type": "stream",
     "name": "stdout",
     "text": [
      "time\n00:00:00    False\n00:00:01    False\n00:00:06    False\n00:00:12     True\n00:00:16     True\nName: moving, dtype: bool\n"
     ]
    }
   ],
   "source": [
    "activity_only_moving = activity.only_moving()\n",
    "print(activity_only_moving['moving'].head())"
   ]
  },
  {
   "source": [
    "Now we can compute the stopped time and the moving time."
   ],
   "cell_type": "markdown",
   "metadata": {}
  },
  {
   "cell_type": "code",
   "execution_count": 25,
   "metadata": {},
   "outputs": [
    {
     "output_type": "stream",
     "name": "stdout",
     "text": [
      "The stopped period: 0 days 00:00:07\n"
     ]
    }
   ],
   "source": [
    "print('The stopped period:', activity_only_moving[activity_only_moving['moving'] == False].index.sum())"
   ]
  },
  {
   "cell_type": "code",
   "execution_count": 26,
   "metadata": {},
   "outputs": [
    {
     "output_type": "stream",
     "name": "stdout",
     "text": [
      "The moving time: 0 days 00:33:05\n"
     ]
    }
   ],
   "source": [
    "print('The moving time:', activity_only_moving.moving_time)"
   ]
  },
  {
   "source": [
    "### What is coming next ?"
   ],
   "cell_type": "markdown",
   "metadata": {}
  },
  {
   "source": [
    "We will load several running metrics and statistics to our activities and measure series in order to provide the user deeper details about their running activities. It will includes heart time zones, average speed, personal best records per distance, and more!"
   ],
   "cell_type": "markdown",
   "metadata": {}
  },
  {
   "source": [
    "### Thanks"
   ],
   "cell_type": "markdown",
   "metadata": {}
  },
  {
   "source": [
    "We are constantly developing Runpandas improving its existing features and adding new ones. We will be glad to hear from you about what you like or don’t like, what features you may wish to see in upcoming releases. Please feel free to contact us.\n"
   ],
   "cell_type": "markdown",
   "metadata": {}
  }
 ]
}